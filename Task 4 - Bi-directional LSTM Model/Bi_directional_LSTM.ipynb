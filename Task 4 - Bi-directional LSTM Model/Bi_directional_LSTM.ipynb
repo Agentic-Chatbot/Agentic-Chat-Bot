{
  "nbformat": 4,
  "nbformat_minor": 0,
  "metadata": {
    "colab": {
      "provenance": []
    },
    "kernelspec": {
      "name": "python3",
      "display_name": "Python 3"
    },
    "language_info": {
      "name": "python"
    }
  },
  "cells": [
    {
      "cell_type": "markdown",
      "source": [
        "Importing the Dependencies"
      ],
      "metadata": {
        "id": "kZSWW_FgRlmK"
      }
    },
    {
      "cell_type": "code",
      "execution_count": 51,
      "metadata": {
        "id": "cBdY-kv_RkoQ"
      },
      "outputs": [],
      "source": [
        "import pandas as pd\n",
        "import numpy as np\n",
        "import matplotlib.pyplot as plt\n",
        "import tensorflow as tf\n",
        "import random\n",
        "import csv\n",
        "from sklearn.preprocessing import MinMaxScaler\n",
        "from sklearn.model_selection import train_test_split\n",
        "from sklearn.metrics import mean_squared_error\n",
        "from tensorflow.keras.models import Sequential\n",
        "from tensorflow.keras.layers import Dense, LSTM, Bidirectional\n",
        "from tensorflow.keras.optimizers import Adam, RMSprop, SGD\n",
        "from tensorflow.keras.callbacks import EarlyStopping"
      ]
    },
    {
      "cell_type": "markdown",
      "source": [
        "Data Collection & Pre-processing"
      ],
      "metadata": {
        "id": "5L4QPvntRtDh"
      }
    },
    {
      "cell_type": "code",
      "source": [
        "# importing the dataset to Pandas Dataframe\n",
        "dataset = pd.read_csv(\"/content/airline-passengers.csv\",usecols=[1],engine='python')\n",
        "dataset.head()"
      ],
      "metadata": {
        "colab": {
          "base_uri": "https://localhost:8080/",
          "height": 206
        },
        "id": "H6oIFNTiRqA2",
        "outputId": "bc1c5d2d-9ce4-4523-a1a9-19ad2099db83"
      },
      "execution_count": 52,
      "outputs": [
        {
          "output_type": "execute_result",
          "data": {
            "text/plain": [
              "   Passengers\n",
              "0         112\n",
              "1         118\n",
              "2         132\n",
              "3         129\n",
              "4         121"
            ],
            "text/html": [
              "\n",
              "  <div id=\"df-57d756f5-600e-4d09-88c1-7010dc995ce8\" class=\"colab-df-container\">\n",
              "    <div>\n",
              "<style scoped>\n",
              "    .dataframe tbody tr th:only-of-type {\n",
              "        vertical-align: middle;\n",
              "    }\n",
              "\n",
              "    .dataframe tbody tr th {\n",
              "        vertical-align: top;\n",
              "    }\n",
              "\n",
              "    .dataframe thead th {\n",
              "        text-align: right;\n",
              "    }\n",
              "</style>\n",
              "<table border=\"1\" class=\"dataframe\">\n",
              "  <thead>\n",
              "    <tr style=\"text-align: right;\">\n",
              "      <th></th>\n",
              "      <th>Passengers</th>\n",
              "    </tr>\n",
              "  </thead>\n",
              "  <tbody>\n",
              "    <tr>\n",
              "      <th>0</th>\n",
              "      <td>112</td>\n",
              "    </tr>\n",
              "    <tr>\n",
              "      <th>1</th>\n",
              "      <td>118</td>\n",
              "    </tr>\n",
              "    <tr>\n",
              "      <th>2</th>\n",
              "      <td>132</td>\n",
              "    </tr>\n",
              "    <tr>\n",
              "      <th>3</th>\n",
              "      <td>129</td>\n",
              "    </tr>\n",
              "    <tr>\n",
              "      <th>4</th>\n",
              "      <td>121</td>\n",
              "    </tr>\n",
              "  </tbody>\n",
              "</table>\n",
              "</div>\n",
              "    <div class=\"colab-df-buttons\">\n",
              "\n",
              "  <div class=\"colab-df-container\">\n",
              "    <button class=\"colab-df-convert\" onclick=\"convertToInteractive('df-57d756f5-600e-4d09-88c1-7010dc995ce8')\"\n",
              "            title=\"Convert this dataframe to an interactive table.\"\n",
              "            style=\"display:none;\">\n",
              "\n",
              "  <svg xmlns=\"http://www.w3.org/2000/svg\" height=\"24px\" viewBox=\"0 -960 960 960\">\n",
              "    <path d=\"M120-120v-720h720v720H120Zm60-500h600v-160H180v160Zm220 220h160v-160H400v160Zm0 220h160v-160H400v160ZM180-400h160v-160H180v160Zm440 0h160v-160H620v160ZM180-180h160v-160H180v160Zm440 0h160v-160H620v160Z\"/>\n",
              "  </svg>\n",
              "    </button>\n",
              "\n",
              "  <style>\n",
              "    .colab-df-container {\n",
              "      display:flex;\n",
              "      gap: 12px;\n",
              "    }\n",
              "\n",
              "    .colab-df-convert {\n",
              "      background-color: #E8F0FE;\n",
              "      border: none;\n",
              "      border-radius: 50%;\n",
              "      cursor: pointer;\n",
              "      display: none;\n",
              "      fill: #1967D2;\n",
              "      height: 32px;\n",
              "      padding: 0 0 0 0;\n",
              "      width: 32px;\n",
              "    }\n",
              "\n",
              "    .colab-df-convert:hover {\n",
              "      background-color: #E2EBFA;\n",
              "      box-shadow: 0px 1px 2px rgba(60, 64, 67, 0.3), 0px 1px 3px 1px rgba(60, 64, 67, 0.15);\n",
              "      fill: #174EA6;\n",
              "    }\n",
              "\n",
              "    .colab-df-buttons div {\n",
              "      margin-bottom: 4px;\n",
              "    }\n",
              "\n",
              "    [theme=dark] .colab-df-convert {\n",
              "      background-color: #3B4455;\n",
              "      fill: #D2E3FC;\n",
              "    }\n",
              "\n",
              "    [theme=dark] .colab-df-convert:hover {\n",
              "      background-color: #434B5C;\n",
              "      box-shadow: 0px 1px 3px 1px rgba(0, 0, 0, 0.15);\n",
              "      filter: drop-shadow(0px 1px 2px rgba(0, 0, 0, 0.3));\n",
              "      fill: #FFFFFF;\n",
              "    }\n",
              "  </style>\n",
              "\n",
              "    <script>\n",
              "      const buttonEl =\n",
              "        document.querySelector('#df-57d756f5-600e-4d09-88c1-7010dc995ce8 button.colab-df-convert');\n",
              "      buttonEl.style.display =\n",
              "        google.colab.kernel.accessAllowed ? 'block' : 'none';\n",
              "\n",
              "      async function convertToInteractive(key) {\n",
              "        const element = document.querySelector('#df-57d756f5-600e-4d09-88c1-7010dc995ce8');\n",
              "        const dataTable =\n",
              "          await google.colab.kernel.invokeFunction('convertToInteractive',\n",
              "                                                    [key], {});\n",
              "        if (!dataTable) return;\n",
              "\n",
              "        const docLinkHtml = 'Like what you see? Visit the ' +\n",
              "          '<a target=\"_blank\" href=https://colab.research.google.com/notebooks/data_table.ipynb>data table notebook</a>'\n",
              "          + ' to learn more about interactive tables.';\n",
              "        element.innerHTML = '';\n",
              "        dataTable['output_type'] = 'display_data';\n",
              "        await google.colab.output.renderOutput(dataTable, element);\n",
              "        const docLink = document.createElement('div');\n",
              "        docLink.innerHTML = docLinkHtml;\n",
              "        element.appendChild(docLink);\n",
              "      }\n",
              "    </script>\n",
              "  </div>\n",
              "\n",
              "\n",
              "    <div id=\"df-223345e6-9e72-4612-9f49-9f95c4617f37\">\n",
              "      <button class=\"colab-df-quickchart\" onclick=\"quickchart('df-223345e6-9e72-4612-9f49-9f95c4617f37')\"\n",
              "                title=\"Suggest charts\"\n",
              "                style=\"display:none;\">\n",
              "\n",
              "<svg xmlns=\"http://www.w3.org/2000/svg\" height=\"24px\"viewBox=\"0 0 24 24\"\n",
              "     width=\"24px\">\n",
              "    <g>\n",
              "        <path d=\"M19 3H5c-1.1 0-2 .9-2 2v14c0 1.1.9 2 2 2h14c1.1 0 2-.9 2-2V5c0-1.1-.9-2-2-2zM9 17H7v-7h2v7zm4 0h-2V7h2v10zm4 0h-2v-4h2v4z\"/>\n",
              "    </g>\n",
              "</svg>\n",
              "      </button>\n",
              "\n",
              "<style>\n",
              "  .colab-df-quickchart {\n",
              "      --bg-color: #E8F0FE;\n",
              "      --fill-color: #1967D2;\n",
              "      --hover-bg-color: #E2EBFA;\n",
              "      --hover-fill-color: #174EA6;\n",
              "      --disabled-fill-color: #AAA;\n",
              "      --disabled-bg-color: #DDD;\n",
              "  }\n",
              "\n",
              "  [theme=dark] .colab-df-quickchart {\n",
              "      --bg-color: #3B4455;\n",
              "      --fill-color: #D2E3FC;\n",
              "      --hover-bg-color: #434B5C;\n",
              "      --hover-fill-color: #FFFFFF;\n",
              "      --disabled-bg-color: #3B4455;\n",
              "      --disabled-fill-color: #666;\n",
              "  }\n",
              "\n",
              "  .colab-df-quickchart {\n",
              "    background-color: var(--bg-color);\n",
              "    border: none;\n",
              "    border-radius: 50%;\n",
              "    cursor: pointer;\n",
              "    display: none;\n",
              "    fill: var(--fill-color);\n",
              "    height: 32px;\n",
              "    padding: 0;\n",
              "    width: 32px;\n",
              "  }\n",
              "\n",
              "  .colab-df-quickchart:hover {\n",
              "    background-color: var(--hover-bg-color);\n",
              "    box-shadow: 0 1px 2px rgba(60, 64, 67, 0.3), 0 1px 3px 1px rgba(60, 64, 67, 0.15);\n",
              "    fill: var(--button-hover-fill-color);\n",
              "  }\n",
              "\n",
              "  .colab-df-quickchart-complete:disabled,\n",
              "  .colab-df-quickchart-complete:disabled:hover {\n",
              "    background-color: var(--disabled-bg-color);\n",
              "    fill: var(--disabled-fill-color);\n",
              "    box-shadow: none;\n",
              "  }\n",
              "\n",
              "  .colab-df-spinner {\n",
              "    border: 2px solid var(--fill-color);\n",
              "    border-color: transparent;\n",
              "    border-bottom-color: var(--fill-color);\n",
              "    animation:\n",
              "      spin 1s steps(1) infinite;\n",
              "  }\n",
              "\n",
              "  @keyframes spin {\n",
              "    0% {\n",
              "      border-color: transparent;\n",
              "      border-bottom-color: var(--fill-color);\n",
              "      border-left-color: var(--fill-color);\n",
              "    }\n",
              "    20% {\n",
              "      border-color: transparent;\n",
              "      border-left-color: var(--fill-color);\n",
              "      border-top-color: var(--fill-color);\n",
              "    }\n",
              "    30% {\n",
              "      border-color: transparent;\n",
              "      border-left-color: var(--fill-color);\n",
              "      border-top-color: var(--fill-color);\n",
              "      border-right-color: var(--fill-color);\n",
              "    }\n",
              "    40% {\n",
              "      border-color: transparent;\n",
              "      border-right-color: var(--fill-color);\n",
              "      border-top-color: var(--fill-color);\n",
              "    }\n",
              "    60% {\n",
              "      border-color: transparent;\n",
              "      border-right-color: var(--fill-color);\n",
              "    }\n",
              "    80% {\n",
              "      border-color: transparent;\n",
              "      border-right-color: var(--fill-color);\n",
              "      border-bottom-color: var(--fill-color);\n",
              "    }\n",
              "    90% {\n",
              "      border-color: transparent;\n",
              "      border-bottom-color: var(--fill-color);\n",
              "    }\n",
              "  }\n",
              "</style>\n",
              "\n",
              "      <script>\n",
              "        async function quickchart(key) {\n",
              "          const quickchartButtonEl =\n",
              "            document.querySelector('#' + key + ' button');\n",
              "          quickchartButtonEl.disabled = true;  // To prevent multiple clicks.\n",
              "          quickchartButtonEl.classList.add('colab-df-spinner');\n",
              "          try {\n",
              "            const charts = await google.colab.kernel.invokeFunction(\n",
              "                'suggestCharts', [key], {});\n",
              "          } catch (error) {\n",
              "            console.error('Error during call to suggestCharts:', error);\n",
              "          }\n",
              "          quickchartButtonEl.classList.remove('colab-df-spinner');\n",
              "          quickchartButtonEl.classList.add('colab-df-quickchart-complete');\n",
              "        }\n",
              "        (() => {\n",
              "          let quickchartButtonEl =\n",
              "            document.querySelector('#df-223345e6-9e72-4612-9f49-9f95c4617f37 button');\n",
              "          quickchartButtonEl.style.display =\n",
              "            google.colab.kernel.accessAllowed ? 'block' : 'none';\n",
              "        })();\n",
              "      </script>\n",
              "    </div>\n",
              "\n",
              "    </div>\n",
              "  </div>\n"
            ],
            "application/vnd.google.colaboratory.intrinsic+json": {
              "type": "dataframe",
              "variable_name": "dataset",
              "summary": "{\n  \"name\": \"dataset\",\n  \"rows\": 144,\n  \"fields\": [\n    {\n      \"column\": \"Passengers\",\n      \"properties\": {\n        \"dtype\": \"number\",\n        \"std\": 119,\n        \"min\": 104,\n        \"max\": 622,\n        \"num_unique_values\": 118,\n        \"samples\": [\n          293,\n          340,\n          121\n        ],\n        \"semantic_type\": \"\",\n        \"description\": \"\"\n      }\n    }\n  ]\n}"
            }
          },
          "metadata": {},
          "execution_count": 52
        }
      ]
    },
    {
      "cell_type": "code",
      "source": [
        "# no. of rows and columns\n",
        "dataset.shape"
      ],
      "metadata": {
        "colab": {
          "base_uri": "https://localhost:8080/"
        },
        "id": "wIwzo9X0R4nN",
        "outputId": "d3d9e259-fdab-4ae4-a18d-7fa11a90e6e0"
      },
      "execution_count": 53,
      "outputs": [
        {
          "output_type": "execute_result",
          "data": {
            "text/plain": [
              "(144, 1)"
            ]
          },
          "metadata": {},
          "execution_count": 53
        }
      ]
    },
    {
      "cell_type": "code",
      "source": [
        "# checking empty values in dataset\n",
        "dataset.isnull().sum()"
      ],
      "metadata": {
        "colab": {
          "base_uri": "https://localhost:8080/",
          "height": 115
        },
        "id": "hmEbb86fSK28",
        "outputId": "b4cf4cd5-0cc5-487c-b938-03d8da854212"
      },
      "execution_count": 54,
      "outputs": [
        {
          "output_type": "execute_result",
          "data": {
            "text/plain": [
              "Passengers    0\n",
              "dtype: int64"
            ],
            "text/html": [
              "<div>\n",
              "<style scoped>\n",
              "    .dataframe tbody tr th:only-of-type {\n",
              "        vertical-align: middle;\n",
              "    }\n",
              "\n",
              "    .dataframe tbody tr th {\n",
              "        vertical-align: top;\n",
              "    }\n",
              "\n",
              "    .dataframe thead th {\n",
              "        text-align: right;\n",
              "    }\n",
              "</style>\n",
              "<table border=\"1\" class=\"dataframe\">\n",
              "  <thead>\n",
              "    <tr style=\"text-align: right;\">\n",
              "      <th></th>\n",
              "      <th>0</th>\n",
              "    </tr>\n",
              "  </thead>\n",
              "  <tbody>\n",
              "    <tr>\n",
              "      <th>Passengers</th>\n",
              "      <td>0</td>\n",
              "    </tr>\n",
              "  </tbody>\n",
              "</table>\n",
              "</div><br><label><b>dtype:</b> int64</label>"
            ]
          },
          "metadata": {},
          "execution_count": 54
        }
      ]
    },
    {
      "cell_type": "code",
      "source": [
        "# All random operations in TensorFlow will now produce the same output every time you run the code\n",
        "tf.random.set_seed(7001)"
      ],
      "metadata": {
        "id": "qnbX2gVHSM4Y"
      },
      "execution_count": 55,
      "outputs": []
    },
    {
      "cell_type": "code",
      "source": [
        "# converting dataset to numpy array\n",
        "dataset = dataset.values.astype('float32')\n",
        "print(type(dataset))"
      ],
      "metadata": {
        "colab": {
          "base_uri": "https://localhost:8080/"
        },
        "id": "1m7Ir4qHSPJf",
        "outputId": "9914a79e-739f-4ee4-8973-6a7388c1ad32"
      },
      "execution_count": 56,
      "outputs": [
        {
          "output_type": "stream",
          "name": "stdout",
          "text": [
            "<class 'numpy.ndarray'>\n"
          ]
        }
      ]
    },
    {
      "cell_type": "code",
      "source": [
        "dataset"
      ],
      "metadata": {
        "colab": {
          "base_uri": "https://localhost:8080/"
        },
        "collapsed": true,
        "id": "j_VvmW8OSZ5Z",
        "outputId": "d7338b3c-8b38-4e74-d029-27c6f60db44a"
      },
      "execution_count": 57,
      "outputs": [
        {
          "output_type": "execute_result",
          "data": {
            "text/plain": [
              "array([[112.],\n",
              "       [118.],\n",
              "       [132.],\n",
              "       [129.],\n",
              "       [121.],\n",
              "       [135.],\n",
              "       [148.],\n",
              "       [148.],\n",
              "       [136.],\n",
              "       [119.],\n",
              "       [104.],\n",
              "       [118.],\n",
              "       [115.],\n",
              "       [126.],\n",
              "       [141.],\n",
              "       [135.],\n",
              "       [125.],\n",
              "       [149.],\n",
              "       [170.],\n",
              "       [170.],\n",
              "       [158.],\n",
              "       [133.],\n",
              "       [114.],\n",
              "       [140.],\n",
              "       [145.],\n",
              "       [150.],\n",
              "       [178.],\n",
              "       [163.],\n",
              "       [172.],\n",
              "       [178.],\n",
              "       [199.],\n",
              "       [199.],\n",
              "       [184.],\n",
              "       [162.],\n",
              "       [146.],\n",
              "       [166.],\n",
              "       [171.],\n",
              "       [180.],\n",
              "       [193.],\n",
              "       [181.],\n",
              "       [183.],\n",
              "       [218.],\n",
              "       [230.],\n",
              "       [242.],\n",
              "       [209.],\n",
              "       [191.],\n",
              "       [172.],\n",
              "       [194.],\n",
              "       [196.],\n",
              "       [196.],\n",
              "       [236.],\n",
              "       [235.],\n",
              "       [229.],\n",
              "       [243.],\n",
              "       [264.],\n",
              "       [272.],\n",
              "       [237.],\n",
              "       [211.],\n",
              "       [180.],\n",
              "       [201.],\n",
              "       [204.],\n",
              "       [188.],\n",
              "       [235.],\n",
              "       [227.],\n",
              "       [234.],\n",
              "       [264.],\n",
              "       [302.],\n",
              "       [293.],\n",
              "       [259.],\n",
              "       [229.],\n",
              "       [203.],\n",
              "       [229.],\n",
              "       [242.],\n",
              "       [233.],\n",
              "       [267.],\n",
              "       [269.],\n",
              "       [270.],\n",
              "       [315.],\n",
              "       [364.],\n",
              "       [347.],\n",
              "       [312.],\n",
              "       [274.],\n",
              "       [237.],\n",
              "       [278.],\n",
              "       [284.],\n",
              "       [277.],\n",
              "       [317.],\n",
              "       [313.],\n",
              "       [318.],\n",
              "       [374.],\n",
              "       [413.],\n",
              "       [405.],\n",
              "       [355.],\n",
              "       [306.],\n",
              "       [271.],\n",
              "       [306.],\n",
              "       [315.],\n",
              "       [301.],\n",
              "       [356.],\n",
              "       [348.],\n",
              "       [355.],\n",
              "       [422.],\n",
              "       [465.],\n",
              "       [467.],\n",
              "       [404.],\n",
              "       [347.],\n",
              "       [305.],\n",
              "       [336.],\n",
              "       [340.],\n",
              "       [318.],\n",
              "       [362.],\n",
              "       [348.],\n",
              "       [363.],\n",
              "       [435.],\n",
              "       [491.],\n",
              "       [505.],\n",
              "       [404.],\n",
              "       [359.],\n",
              "       [310.],\n",
              "       [337.],\n",
              "       [360.],\n",
              "       [342.],\n",
              "       [406.],\n",
              "       [396.],\n",
              "       [420.],\n",
              "       [472.],\n",
              "       [548.],\n",
              "       [559.],\n",
              "       [463.],\n",
              "       [407.],\n",
              "       [362.],\n",
              "       [405.],\n",
              "       [417.],\n",
              "       [391.],\n",
              "       [419.],\n",
              "       [461.],\n",
              "       [472.],\n",
              "       [535.],\n",
              "       [622.],\n",
              "       [606.],\n",
              "       [508.],\n",
              "       [461.],\n",
              "       [390.],\n",
              "       [432.]], dtype=float32)"
            ]
          },
          "metadata": {},
          "execution_count": 57
        }
      ]
    },
    {
      "cell_type": "markdown",
      "source": [
        "Data Scaling"
      ],
      "metadata": {
        "id": "lA7UtchMSf97"
      }
    },
    {
      "cell_type": "code",
      "source": [
        "# Scaling the values between 0 and 1\n",
        "scaler = MinMaxScaler(feature_range=(0,1))\n",
        "dataset = scaler.fit_transform(dataset)"
      ],
      "metadata": {
        "id": "0JfDxiAKScze"
      },
      "execution_count": 58,
      "outputs": []
    },
    {
      "cell_type": "markdown",
      "source": [
        "Data Splitting"
      ],
      "metadata": {
        "id": "4ynVxn6PSkKp"
      }
    },
    {
      "cell_type": "code",
      "source": [
        "# Splitting the data into train data and test data\n",
        "train, test = train_test_split(dataset, test_size=0.33, shuffle=False)\n",
        "print(\"Training data: \",train)\n",
        "print(\"Testing data: \",test)"
      ],
      "metadata": {
        "colab": {
          "base_uri": "https://localhost:8080/"
        },
        "id": "-Ewryz-BSi-V",
        "outputId": "93ac2ae2-3daf-49d3-d2f2-c0302364f98e"
      },
      "execution_count": 59,
      "outputs": [
        {
          "output_type": "stream",
          "name": "stdout",
          "text": [
            "Training data:  [[0.01544401]\n",
            " [0.02702703]\n",
            " [0.05405405]\n",
            " [0.04826255]\n",
            " [0.03281853]\n",
            " [0.05984557]\n",
            " [0.08494207]\n",
            " [0.08494207]\n",
            " [0.06177607]\n",
            " [0.02895753]\n",
            " [0.        ]\n",
            " [0.02702703]\n",
            " [0.02123553]\n",
            " [0.04247104]\n",
            " [0.07142857]\n",
            " [0.05984557]\n",
            " [0.04054055]\n",
            " [0.08687258]\n",
            " [0.12741312]\n",
            " [0.12741312]\n",
            " [0.10424709]\n",
            " [0.05598456]\n",
            " [0.01930502]\n",
            " [0.06949806]\n",
            " [0.07915059]\n",
            " [0.08880308]\n",
            " [0.14285713]\n",
            " [0.11389962]\n",
            " [0.13127413]\n",
            " [0.14285713]\n",
            " [0.18339768]\n",
            " [0.18339768]\n",
            " [0.15444016]\n",
            " [0.11196911]\n",
            " [0.08108109]\n",
            " [0.1196911 ]\n",
            " [0.12934363]\n",
            " [0.14671814]\n",
            " [0.17181468]\n",
            " [0.14864865]\n",
            " [0.15250966]\n",
            " [0.22007722]\n",
            " [0.24324325]\n",
            " [0.26640925]\n",
            " [0.2027027 ]\n",
            " [0.16795367]\n",
            " [0.13127413]\n",
            " [0.17374519]\n",
            " [0.17760617]\n",
            " [0.17760617]\n",
            " [0.25482625]\n",
            " [0.25289574]\n",
            " [0.24131274]\n",
            " [0.26833975]\n",
            " [0.3088803 ]\n",
            " [0.32432434]\n",
            " [0.25675675]\n",
            " [0.20656371]\n",
            " [0.14671814]\n",
            " [0.18725869]\n",
            " [0.19305018]\n",
            " [0.16216215]\n",
            " [0.25289574]\n",
            " [0.23745173]\n",
            " [0.25096524]\n",
            " [0.3088803 ]\n",
            " [0.38223937]\n",
            " [0.36486486]\n",
            " [0.2992278 ]\n",
            " [0.24131274]\n",
            " [0.1911197 ]\n",
            " [0.24131274]\n",
            " [0.26640925]\n",
            " [0.24903473]\n",
            " [0.31467178]\n",
            " [0.3185328 ]\n",
            " [0.32046333]\n",
            " [0.4073359 ]\n",
            " [0.5019305 ]\n",
            " [0.46911195]\n",
            " [0.40154442]\n",
            " [0.32818535]\n",
            " [0.25675675]\n",
            " [0.3359073 ]\n",
            " [0.34749034]\n",
            " [0.33397684]\n",
            " [0.41119692]\n",
            " [0.4034749 ]\n",
            " [0.4131274 ]\n",
            " [0.52123547]\n",
            " [0.5965251 ]\n",
            " [0.58108103]\n",
            " [0.484556  ]\n",
            " [0.3899614 ]\n",
            " [0.3223938 ]\n",
            " [0.3899614 ]]\n",
            "Testing data:  [[0.4073359 ]\n",
            " [0.3803089 ]\n",
            " [0.48648646]\n",
            " [0.47104248]\n",
            " [0.484556  ]\n",
            " [0.6138996 ]\n",
            " [0.6969112 ]\n",
            " [0.70077217]\n",
            " [0.57915056]\n",
            " [0.46911195]\n",
            " [0.38803086]\n",
            " [0.44787642]\n",
            " [0.45559844]\n",
            " [0.4131274 ]\n",
            " [0.4980695 ]\n",
            " [0.47104248]\n",
            " [0.49999997]\n",
            " [0.6389961 ]\n",
            " [0.7471043 ]\n",
            " [0.7741313 ]\n",
            " [0.57915056]\n",
            " [0.492278  ]\n",
            " [0.3976834 ]\n",
            " [0.44980696]\n",
            " [0.49420848]\n",
            " [0.45945945]\n",
            " [0.5830116 ]\n",
            " [0.5637065 ]\n",
            " [0.61003864]\n",
            " [0.71042466]\n",
            " [0.8571429 ]\n",
            " [0.8783784 ]\n",
            " [0.69305015]\n",
            " [0.5849421 ]\n",
            " [0.4980695 ]\n",
            " [0.58108103]\n",
            " [0.6042471 ]\n",
            " [0.554054  ]\n",
            " [0.60810804]\n",
            " [0.6891892 ]\n",
            " [0.71042466]\n",
            " [0.8320464 ]\n",
            " [1.        ]\n",
            " [0.96911204]\n",
            " [0.7799227 ]\n",
            " [0.6891892 ]\n",
            " [0.55212355]\n",
            " [0.6332046 ]]\n"
          ]
        }
      ]
    },
    {
      "cell_type": "markdown",
      "source": [
        "Function to create 2 numpy arrays:\n",
        "\n",
        "\n",
        "\n",
        "*   dataX which stores the past look_back no. of values\n",
        "*   dataY which stores the next value\n",
        "\n"
      ],
      "metadata": {
        "id": "DzlSyXYOSrmg"
      }
    },
    {
      "cell_type": "code",
      "source": [
        "def create_dataset(dataset, look_back=1):\n",
        "    dataX, dataY = [], []\n",
        "    for i in range(len(dataset)-look_back-1):\n",
        "        a = dataset[i:(i+look_back),0]\n",
        "        dataX.append(a)\n",
        "        dataY.append(dataset[i+look_back,0])\n",
        "    return np.array(dataX), np.array(dataY)"
      ],
      "metadata": {
        "id": "p8JyZoeeSoQ5"
      },
      "execution_count": 60,
      "outputs": []
    },
    {
      "cell_type": "markdown",
      "source": [
        "Building LSTM Model\n"
      ],
      "metadata": {
        "id": "1DKB8afQSxPI"
      }
    },
    {
      "cell_type": "code",
      "source": [
        "def build_bi_lstm_model(units=50, look_back=1, optimizer='adam', learning_rate=0.001, loss='mse'):\n",
        "    model = Sequential()\n",
        "    model.add(Bidirectional(LSTM(units, activation='tanh'), input_shape=(look_back, 1)))\n",
        "    model.add(Dense(1))\n",
        "\n",
        "    if optimizer=='adam':\n",
        "        opt = Adam(learning_rate=learning_rate)\n",
        "    elif optimizer=='rmsprop':\n",
        "        opt = RMSprop(learning_rate=learning_rate)\n",
        "    elif optimizer=='sgd':\n",
        "        opt = SGD(learning_rate=learning_rate)\n",
        "\n",
        "    model.compile(loss=loss, optimizer=opt)\n",
        "    return model"
      ],
      "metadata": {
        "id": "7BTPLL6HSuxk"
      },
      "execution_count": 61,
      "outputs": []
    },
    {
      "cell_type": "markdown",
      "source": [
        "The evaluate_model function trains an LSTM with given hyperparameters on the training data, predicts on the test data, and returns the model’s RMSE as a measure of performance."
      ],
      "metadata": {
        "id": "9jQbKZhOS3tf"
      }
    },
    {
      "cell_type": "code",
      "source": [
        "def evaluate_model(units, batch_size, epochs, optimizer, look_back, learning_rate):\n",
        "    trainX, trainY = create_dataset(train, look_back)\n",
        "    testX, testY   = create_dataset(test, look_back)\n",
        "\n",
        "    trainX = np.reshape(trainX, (trainX.shape[0], trainX.shape[1], 1))\n",
        "    testX  = np.reshape(testX,  (testX.shape[0],  testX.shape[1],  1))\n",
        "\n",
        "    model = build_bi_lstm_model(units=units, look_back=look_back, optimizer=optimizer, learning_rate=learning_rate)\n",
        "    early_stop = EarlyStopping(monitor='val_loss', patience=5)\n",
        "\n",
        "    model.fit(trainX, trainY,\n",
        "              epochs=epochs,\n",
        "              batch_size=batch_size,\n",
        "              validation_data=(testX, testY),\n",
        "              verbose=0,\n",
        "              callbacks=[early_stop])\n",
        "\n",
        "    testPredict = model.predict(testX, verbose=0)\n",
        "    testPredict = scaler.inverse_transform(testPredict)\n",
        "    testY_rescaled = scaler.inverse_transform([testY])\n",
        "    rmse = np.sqrt(mean_squared_error(testY_rescaled[0], testPredict[:,0]))\n",
        "    return rmse"
      ],
      "metadata": {
        "id": "jQ0MtMCyS1n6"
      },
      "execution_count": 62,
      "outputs": []
    },
    {
      "cell_type": "markdown",
      "source": [
        "Random Search"
      ],
      "metadata": {
        "id": "xSowoVymS-Ho"
      }
    },
    {
      "cell_type": "markdown",
      "source": [
        "Evaluating model metric: RMSE for different random sets of hyperparameters and storing them"
      ],
      "metadata": {
        "id": "KaL7rc2KTApx"
      }
    },
    {
      "cell_type": "code",
      "source": [
        "param_grid = {\n",
        "    'units': [16, 32, 64],\n",
        "    'batch_size': [4, 8, 16],\n",
        "    'epochs': [50, 100],\n",
        "    'optimizer': ['adam', 'rmsprop'],\n",
        "    'look_back': [3, 5, 10],\n",
        "    'learning_rate': [1e-3, 3e-3]\n",
        "}\n",
        "\n",
        "n_iter = 5\n",
        "results = []\n",
        "\n",
        "for i in range(n_iter):\n",
        "    params = {key: random.choice(values) for key, values in param_grid.items()}\n",
        "    rmse = evaluate_model(**params)\n",
        "    results.append((params, rmse))\n",
        "    print(f\"Trial {i+1}: Params={params}, RMSE={rmse:.2f}\")"
      ],
      "metadata": {
        "colab": {
          "base_uri": "https://localhost:8080/"
        },
        "id": "83otsk2IS7s7",
        "outputId": "f694e3f8-41b9-4760-ada5-acf73c15a2d8"
      },
      "execution_count": 63,
      "outputs": [
        {
          "output_type": "stream",
          "name": "stderr",
          "text": [
            "/usr/local/lib/python3.12/dist-packages/keras/src/layers/rnn/bidirectional.py:107: UserWarning: Do not pass an `input_shape`/`input_dim` argument to a layer. When using Sequential models, prefer using an `Input(shape)` object as the first layer in the model instead.\n",
            "  super().__init__(**kwargs)\n"
          ]
        },
        {
          "output_type": "stream",
          "name": "stdout",
          "text": [
            "Trial 1: Params={'units': 16, 'batch_size': 4, 'epochs': 100, 'optimizer': 'adam', 'look_back': 3, 'learning_rate': 0.001}, RMSE=64.30\n"
          ]
        },
        {
          "output_type": "stream",
          "name": "stderr",
          "text": [
            "/usr/local/lib/python3.12/dist-packages/keras/src/layers/rnn/bidirectional.py:107: UserWarning: Do not pass an `input_shape`/`input_dim` argument to a layer. When using Sequential models, prefer using an `Input(shape)` object as the first layer in the model instead.\n",
            "  super().__init__(**kwargs)\n"
          ]
        },
        {
          "output_type": "stream",
          "name": "stdout",
          "text": [
            "Trial 2: Params={'units': 64, 'batch_size': 16, 'epochs': 50, 'optimizer': 'adam', 'look_back': 5, 'learning_rate': 0.003}, RMSE=85.37\n"
          ]
        },
        {
          "output_type": "stream",
          "name": "stderr",
          "text": [
            "/usr/local/lib/python3.12/dist-packages/keras/src/layers/rnn/bidirectional.py:107: UserWarning: Do not pass an `input_shape`/`input_dim` argument to a layer. When using Sequential models, prefer using an `Input(shape)` object as the first layer in the model instead.\n",
            "  super().__init__(**kwargs)\n"
          ]
        },
        {
          "output_type": "stream",
          "name": "stdout",
          "text": [
            "Trial 3: Params={'units': 16, 'batch_size': 8, 'epochs': 100, 'optimizer': 'adam', 'look_back': 5, 'learning_rate': 0.003}, RMSE=70.34\n"
          ]
        },
        {
          "output_type": "stream",
          "name": "stderr",
          "text": [
            "/usr/local/lib/python3.12/dist-packages/keras/src/layers/rnn/bidirectional.py:107: UserWarning: Do not pass an `input_shape`/`input_dim` argument to a layer. When using Sequential models, prefer using an `Input(shape)` object as the first layer in the model instead.\n",
            "  super().__init__(**kwargs)\n"
          ]
        },
        {
          "output_type": "stream",
          "name": "stdout",
          "text": [
            "Trial 4: Params={'units': 16, 'batch_size': 8, 'epochs': 100, 'optimizer': 'rmsprop', 'look_back': 10, 'learning_rate': 0.001}, RMSE=58.88\n"
          ]
        },
        {
          "output_type": "stream",
          "name": "stderr",
          "text": [
            "/usr/local/lib/python3.12/dist-packages/keras/src/layers/rnn/bidirectional.py:107: UserWarning: Do not pass an `input_shape`/`input_dim` argument to a layer. When using Sequential models, prefer using an `Input(shape)` object as the first layer in the model instead.\n",
            "  super().__init__(**kwargs)\n"
          ]
        },
        {
          "output_type": "stream",
          "name": "stdout",
          "text": [
            "Trial 5: Params={'units': 64, 'batch_size': 8, 'epochs': 50, 'optimizer': 'rmsprop', 'look_back': 5, 'learning_rate': 0.001}, RMSE=86.65\n"
          ]
        }
      ]
    },
    {
      "cell_type": "markdown",
      "source": [
        "Saving Random Search results in a csv file"
      ],
      "metadata": {
        "id": "rR4ro6iwTz2x"
      }
    },
    {
      "cell_type": "code",
      "source": [
        "with open('random_search_results.csv', 'w', newline='') as f:\n",
        "    writer = csv.writer(f)\n",
        "    writer.writerow(['units','batch_size','epochs','optimizer','look_back','learning_rate','rmse'])\n",
        "    for params, rmse in results:\n",
        "        writer.writerow([params['units'], params['batch_size'], params['epochs'], params['optimizer'], params['look_back'], params['learning_rate'], rmse])"
      ],
      "metadata": {
        "id": "gnoX5Pi-TFT-"
      },
      "execution_count": 64,
      "outputs": []
    },
    {
      "cell_type": "markdown",
      "source": [
        "Selecting Best Model with least RMSE value"
      ],
      "metadata": {
        "id": "egVNIZSgT0th"
      }
    },
    {
      "cell_type": "code",
      "source": [
        "best_params, best_rmse = min(results, key=lambda x: x[1])\n",
        "print(\"\\nBest Parameters:\", best_params)\n",
        "print(\"Best RMSE:\", best_rmse)"
      ],
      "metadata": {
        "colab": {
          "base_uri": "https://localhost:8080/"
        },
        "id": "W3bFAu3WT4Jg",
        "outputId": "c4648e84-0d33-436f-870f-6ccef8c065f4"
      },
      "execution_count": 65,
      "outputs": [
        {
          "output_type": "stream",
          "name": "stdout",
          "text": [
            "\n",
            "Best Parameters: {'units': 16, 'batch_size': 8, 'epochs': 100, 'optimizer': 'rmsprop', 'look_back': 10, 'learning_rate': 0.001}\n",
            "Best RMSE: 58.87859483461405\n"
          ]
        }
      ]
    },
    {
      "cell_type": "markdown",
      "source": [
        "Building the LSTM model with selected hyperparameters"
      ],
      "metadata": {
        "id": "eaAB-MBmT934"
      }
    },
    {
      "cell_type": "code",
      "source": [
        "best_look_back = best_params['look_back']\n",
        "best_model = build_bi_lstm_model(units=best_params['units'],\n",
        "                                 look_back=best_look_back,\n",
        "                                 optimizer=best_params['optimizer'],\n",
        "                                 learning_rate=best_params['learning_rate'])"
      ],
      "metadata": {
        "colab": {
          "base_uri": "https://localhost:8080/"
        },
        "id": "KvVzZjcqT-oY",
        "outputId": "d1436883-fedb-4a47-c879-8632dde244a3"
      },
      "execution_count": 66,
      "outputs": [
        {
          "output_type": "stream",
          "name": "stderr",
          "text": [
            "/usr/local/lib/python3.12/dist-packages/keras/src/layers/rnn/bidirectional.py:107: UserWarning: Do not pass an `input_shape`/`input_dim` argument to a layer. When using Sequential models, prefer using an `Input(shape)` object as the first layer in the model instead.\n",
            "  super().__init__(**kwargs)\n"
          ]
        }
      ]
    },
    {
      "cell_type": "markdown",
      "source": [
        "Training the LSTM model"
      ],
      "metadata": {
        "id": "8JmL2MZ1UCQI"
      }
    },
    {
      "cell_type": "code",
      "source": [
        "trainX, trainY = create_dataset(train, best_look_back)\n",
        "testX, testY   = create_dataset(test, best_look_back)\n",
        "\n",
        "trainX = np.reshape(trainX, (trainX.shape[0], trainX.shape[1], 1))\n",
        "testX  = np.reshape(testX,  (testX.shape[0],  testX.shape[1],  1))\n",
        "\n",
        "early_stop = EarlyStopping(monitor='val_loss', patience=5)\n",
        "best_model.fit(trainX, trainY,\n",
        "               epochs=best_params['epochs'],\n",
        "               batch_size=best_params['batch_size'],\n",
        "               validation_data=(testX, testY),\n",
        "               verbose=2,\n",
        "               callbacks=[early_stop])"
      ],
      "metadata": {
        "colab": {
          "base_uri": "https://localhost:8080/"
        },
        "id": "Gh9NuwFkUFz-",
        "outputId": "2bd8e96f-5df8-4fcf-de2f-fd65e9428fa5"
      },
      "execution_count": 67,
      "outputs": [
        {
          "output_type": "stream",
          "name": "stdout",
          "text": [
            "Epoch 1/100\n",
            "11/11 - 4s - 373ms/step - loss: 0.0534 - val_loss: 0.2174\n",
            "Epoch 2/100\n",
            "11/11 - 0s - 22ms/step - loss: 0.0167 - val_loss: 0.1184\n",
            "Epoch 3/100\n",
            "11/11 - 0s - 17ms/step - loss: 0.0114 - val_loss: 0.0932\n",
            "Epoch 4/100\n",
            "11/11 - 0s - 15ms/step - loss: 0.0097 - val_loss: 0.0762\n",
            "Epoch 5/100\n",
            "11/11 - 0s - 28ms/step - loss: 0.0084 - val_loss: 0.0608\n",
            "Epoch 6/100\n",
            "11/11 - 0s - 28ms/step - loss: 0.0073 - val_loss: 0.0489\n",
            "Epoch 7/100\n",
            "11/11 - 0s - 16ms/step - loss: 0.0066 - val_loss: 0.0407\n",
            "Epoch 8/100\n",
            "11/11 - 0s - 18ms/step - loss: 0.0062 - val_loss: 0.0355\n",
            "Epoch 9/100\n",
            "11/11 - 0s - 15ms/step - loss: 0.0059 - val_loss: 0.0322\n",
            "Epoch 10/100\n",
            "11/11 - 0s - 27ms/step - loss: 0.0058 - val_loss: 0.0302\n",
            "Epoch 11/100\n",
            "11/11 - 0s - 17ms/step - loss: 0.0057 - val_loss: 0.0290\n",
            "Epoch 12/100\n",
            "11/11 - 0s - 26ms/step - loss: 0.0056 - val_loss: 0.0281\n",
            "Epoch 13/100\n",
            "11/11 - 0s - 28ms/step - loss: 0.0056 - val_loss: 0.0275\n",
            "Epoch 14/100\n",
            "11/11 - 0s - 27ms/step - loss: 0.0055 - val_loss: 0.0271\n",
            "Epoch 15/100\n",
            "11/11 - 0s - 17ms/step - loss: 0.0055 - val_loss: 0.0268\n",
            "Epoch 16/100\n",
            "11/11 - 0s - 27ms/step - loss: 0.0054 - val_loss: 0.0265\n",
            "Epoch 17/100\n",
            "11/11 - 0s - 16ms/step - loss: 0.0054 - val_loss: 0.0263\n",
            "Epoch 18/100\n",
            "11/11 - 0s - 15ms/step - loss: 0.0054 - val_loss: 0.0261\n",
            "Epoch 19/100\n",
            "11/11 - 0s - 29ms/step - loss: 0.0054 - val_loss: 0.0259\n",
            "Epoch 20/100\n",
            "11/11 - 0s - 28ms/step - loss: 0.0053 - val_loss: 0.0257\n",
            "Epoch 21/100\n",
            "11/11 - 0s - 34ms/step - loss: 0.0053 - val_loss: 0.0256\n",
            "Epoch 22/100\n",
            "11/11 - 0s - 25ms/step - loss: 0.0053 - val_loss: 0.0254\n",
            "Epoch 23/100\n",
            "11/11 - 0s - 27ms/step - loss: 0.0052 - val_loss: 0.0253\n",
            "Epoch 24/100\n",
            "11/11 - 0s - 24ms/step - loss: 0.0052 - val_loss: 0.0251\n",
            "Epoch 25/100\n",
            "11/11 - 0s - 26ms/step - loss: 0.0052 - val_loss: 0.0250\n",
            "Epoch 26/100\n",
            "11/11 - 0s - 30ms/step - loss: 0.0052 - val_loss: 0.0249\n",
            "Epoch 27/100\n",
            "11/11 - 0s - 29ms/step - loss: 0.0051 - val_loss: 0.0247\n",
            "Epoch 28/100\n",
            "11/11 - 0s - 26ms/step - loss: 0.0051 - val_loss: 0.0246\n",
            "Epoch 29/100\n",
            "11/11 - 0s - 18ms/step - loss: 0.0051 - val_loss: 0.0245\n",
            "Epoch 30/100\n",
            "11/11 - 0s - 29ms/step - loss: 0.0051 - val_loss: 0.0244\n",
            "Epoch 31/100\n",
            "11/11 - 0s - 26ms/step - loss: 0.0050 - val_loss: 0.0242\n",
            "Epoch 32/100\n",
            "11/11 - 0s - 16ms/step - loss: 0.0050 - val_loss: 0.0241\n",
            "Epoch 33/100\n",
            "11/11 - 0s - 15ms/step - loss: 0.0050 - val_loss: 0.0240\n",
            "Epoch 34/100\n",
            "11/11 - 0s - 19ms/step - loss: 0.0050 - val_loss: 0.0239\n",
            "Epoch 35/100\n",
            "11/11 - 0s - 16ms/step - loss: 0.0049 - val_loss: 0.0237\n",
            "Epoch 36/100\n",
            "11/11 - 0s - 15ms/step - loss: 0.0049 - val_loss: 0.0236\n",
            "Epoch 37/100\n",
            "11/11 - 0s - 15ms/step - loss: 0.0049 - val_loss: 0.0235\n",
            "Epoch 38/100\n",
            "11/11 - 0s - 15ms/step - loss: 0.0049 - val_loss: 0.0234\n",
            "Epoch 39/100\n",
            "11/11 - 0s - 15ms/step - loss: 0.0049 - val_loss: 0.0233\n",
            "Epoch 40/100\n",
            "11/11 - 0s - 19ms/step - loss: 0.0048 - val_loss: 0.0232\n",
            "Epoch 41/100\n",
            "11/11 - 0s - 16ms/step - loss: 0.0048 - val_loss: 0.0230\n",
            "Epoch 42/100\n",
            "11/11 - 0s - 16ms/step - loss: 0.0048 - val_loss: 0.0229\n",
            "Epoch 43/100\n",
            "11/11 - 0s - 27ms/step - loss: 0.0048 - val_loss: 0.0228\n",
            "Epoch 44/100\n",
            "11/11 - 0s - 28ms/step - loss: 0.0048 - val_loss: 0.0227\n",
            "Epoch 45/100\n",
            "11/11 - 0s - 17ms/step - loss: 0.0047 - val_loss: 0.0226\n",
            "Epoch 46/100\n",
            "11/11 - 0s - 26ms/step - loss: 0.0047 - val_loss: 0.0225\n",
            "Epoch 47/100\n",
            "11/11 - 0s - 15ms/step - loss: 0.0047 - val_loss: 0.0224\n",
            "Epoch 48/100\n",
            "11/11 - 0s - 15ms/step - loss: 0.0047 - val_loss: 0.0223\n",
            "Epoch 49/100\n",
            "11/11 - 0s - 16ms/step - loss: 0.0047 - val_loss: 0.0222\n",
            "Epoch 50/100\n",
            "11/11 - 0s - 18ms/step - loss: 0.0046 - val_loss: 0.0220\n",
            "Epoch 51/100\n",
            "11/11 - 0s - 16ms/step - loss: 0.0046 - val_loss: 0.0219\n",
            "Epoch 52/100\n",
            "11/11 - 0s - 16ms/step - loss: 0.0046 - val_loss: 0.0218\n",
            "Epoch 53/100\n",
            "11/11 - 0s - 28ms/step - loss: 0.0046 - val_loss: 0.0217\n",
            "Epoch 54/100\n",
            "11/11 - 0s - 17ms/step - loss: 0.0046 - val_loss: 0.0216\n",
            "Epoch 55/100\n",
            "11/11 - 0s - 18ms/step - loss: 0.0045 - val_loss: 0.0215\n",
            "Epoch 56/100\n",
            "11/11 - 0s - 16ms/step - loss: 0.0045 - val_loss: 0.0214\n",
            "Epoch 57/100\n",
            "11/11 - 0s - 27ms/step - loss: 0.0045 - val_loss: 0.0213\n",
            "Epoch 58/100\n",
            "11/11 - 0s - 28ms/step - loss: 0.0045 - val_loss: 0.0212\n",
            "Epoch 59/100\n",
            "11/11 - 0s - 17ms/step - loss: 0.0045 - val_loss: 0.0211\n",
            "Epoch 60/100\n",
            "11/11 - 0s - 16ms/step - loss: 0.0044 - val_loss: 0.0210\n",
            "Epoch 61/100\n",
            "11/11 - 0s - 16ms/step - loss: 0.0044 - val_loss: 0.0209\n",
            "Epoch 62/100\n",
            "11/11 - 0s - 15ms/step - loss: 0.0044 - val_loss: 0.0208\n",
            "Epoch 63/100\n",
            "11/11 - 0s - 28ms/step - loss: 0.0044 - val_loss: 0.0207\n",
            "Epoch 64/100\n",
            "11/11 - 0s - 27ms/step - loss: 0.0044 - val_loss: 0.0206\n",
            "Epoch 65/100\n",
            "11/11 - 0s - 15ms/step - loss: 0.0043 - val_loss: 0.0205\n",
            "Epoch 66/100\n",
            "11/11 - 0s - 16ms/step - loss: 0.0043 - val_loss: 0.0203\n",
            "Epoch 67/100\n",
            "11/11 - 0s - 19ms/step - loss: 0.0043 - val_loss: 0.0202\n",
            "Epoch 68/100\n",
            "11/11 - 0s - 28ms/step - loss: 0.0043 - val_loss: 0.0201\n",
            "Epoch 69/100\n",
            "11/11 - 0s - 24ms/step - loss: 0.0043 - val_loss: 0.0200\n",
            "Epoch 70/100\n",
            "11/11 - 0s - 16ms/step - loss: 0.0042 - val_loss: 0.0199\n",
            "Epoch 71/100\n",
            "11/11 - 0s - 30ms/step - loss: 0.0042 - val_loss: 0.0198\n",
            "Epoch 72/100\n",
            "11/11 - 0s - 16ms/step - loss: 0.0042 - val_loss: 0.0197\n",
            "Epoch 73/100\n",
            "11/11 - 0s - 27ms/step - loss: 0.0042 - val_loss: 0.0196\n",
            "Epoch 74/100\n",
            "11/11 - 0s - 36ms/step - loss: 0.0042 - val_loss: 0.0195\n",
            "Epoch 75/100\n",
            "11/11 - 0s - 26ms/step - loss: 0.0042 - val_loss: 0.0194\n",
            "Epoch 76/100\n",
            "11/11 - 0s - 29ms/step - loss: 0.0041 - val_loss: 0.0193\n",
            "Epoch 77/100\n",
            "11/11 - 0s - 26ms/step - loss: 0.0041 - val_loss: 0.0192\n",
            "Epoch 78/100\n",
            "11/11 - 0s - 26ms/step - loss: 0.0041 - val_loss: 0.0191\n",
            "Epoch 79/100\n",
            "11/11 - 0s - 28ms/step - loss: 0.0041 - val_loss: 0.0190\n",
            "Epoch 80/100\n",
            "11/11 - 0s - 27ms/step - loss: 0.0041 - val_loss: 0.0189\n",
            "Epoch 81/100\n",
            "11/11 - 0s - 30ms/step - loss: 0.0040 - val_loss: 0.0188\n",
            "Epoch 82/100\n",
            "11/11 - 0s - 20ms/step - loss: 0.0040 - val_loss: 0.0187\n",
            "Epoch 83/100\n",
            "11/11 - 0s - 17ms/step - loss: 0.0040 - val_loss: 0.0186\n",
            "Epoch 84/100\n",
            "11/11 - 0s - 26ms/step - loss: 0.0040 - val_loss: 0.0184\n",
            "Epoch 85/100\n",
            "11/11 - 0s - 27ms/step - loss: 0.0040 - val_loss: 0.0183\n",
            "Epoch 86/100\n",
            "11/11 - 0s - 28ms/step - loss: 0.0039 - val_loss: 0.0182\n",
            "Epoch 87/100\n",
            "11/11 - 0s - 29ms/step - loss: 0.0039 - val_loss: 0.0181\n",
            "Epoch 88/100\n",
            "11/11 - 0s - 16ms/step - loss: 0.0039 - val_loss: 0.0180\n",
            "Epoch 89/100\n",
            "11/11 - 0s - 17ms/step - loss: 0.0039 - val_loss: 0.0179\n",
            "Epoch 90/100\n",
            "11/11 - 0s - 18ms/step - loss: 0.0039 - val_loss: 0.0178\n",
            "Epoch 91/100\n",
            "11/11 - 0s - 28ms/step - loss: 0.0038 - val_loss: 0.0177\n",
            "Epoch 92/100\n",
            "11/11 - 0s - 25ms/step - loss: 0.0038 - val_loss: 0.0176\n",
            "Epoch 93/100\n",
            "11/11 - 0s - 17ms/step - loss: 0.0038 - val_loss: 0.0175\n",
            "Epoch 94/100\n",
            "11/11 - 0s - 27ms/step - loss: 0.0038 - val_loss: 0.0173\n",
            "Epoch 95/100\n",
            "11/11 - 0s - 19ms/step - loss: 0.0037 - val_loss: 0.0172\n",
            "Epoch 96/100\n",
            "11/11 - 0s - 19ms/step - loss: 0.0037 - val_loss: 0.0171\n",
            "Epoch 97/100\n",
            "11/11 - 0s - 16ms/step - loss: 0.0037 - val_loss: 0.0170\n",
            "Epoch 98/100\n",
            "11/11 - 0s - 17ms/step - loss: 0.0037 - val_loss: 0.0169\n",
            "Epoch 99/100\n",
            "11/11 - 0s - 16ms/step - loss: 0.0037 - val_loss: 0.0168\n",
            "Epoch 100/100\n",
            "11/11 - 0s - 28ms/step - loss: 0.0036 - val_loss: 0.0167\n"
          ]
        },
        {
          "output_type": "execute_result",
          "data": {
            "text/plain": [
              "<keras.src.callbacks.history.History at 0x7c3678219c10>"
            ]
          },
          "metadata": {},
          "execution_count": 67
        }
      ]
    },
    {
      "cell_type": "markdown",
      "source": [
        " Forecast next 12 months"
      ],
      "metadata": {
        "id": "j9utkgE2Up--"
      }
    },
    {
      "cell_type": "code",
      "source": [
        "future_steps = 12\n",
        "last_seq = dataset[-best_look_back:]\n",
        "future_preds = []\n",
        "\n",
        "for _ in range(future_steps):\n",
        "    seq_input = np.reshape(last_seq, (1, best_look_back, 1))\n",
        "    pred = best_model.predict(seq_input, verbose=0)\n",
        "    future_preds.append(pred[0,0])\n",
        "    last_seq = np.append(last_seq[1:], pred[0,0])\n",
        "\n",
        "future_preds = scaler.inverse_transform(np.array(future_preds).reshape(-1,1))\n",
        "print(\"Next 12 months forecast:\\n\", future_preds.flatten())"
      ],
      "metadata": {
        "colab": {
          "base_uri": "https://localhost:8080/"
        },
        "id": "ioj7nESxUqcv",
        "outputId": "e0b1721d-8d70-453d-98a0-e9681b39f883"
      },
      "execution_count": 68,
      "outputs": [
        {
          "output_type": "stream",
          "name": "stdout",
          "text": [
            "Next 12 months forecast:\n",
            " [448.17758 452.57724 456.1708  461.60083 463.98883 457.60284 446.59152\n",
            " 438.65326 432.7109  433.64136 433.27747 432.30328]\n"
          ]
        }
      ]
    },
    {
      "cell_type": "markdown",
      "source": [
        "Visualization of historical data and forecast\n"
      ],
      "metadata": {
        "id": "1sb_y90IWuAc"
      }
    },
    {
      "cell_type": "code",
      "source": [
        "plt.figure(figsize=(12,6))\n",
        "plt.plot(range(len(dataset)), scaler.inverse_transform(dataset), label=\"Historical Data\")\n",
        "plt.plot(range(len(dataset), len(dataset)+future_steps), future_preds, label=\"Forecasted Data\", color='red')\n",
        "plt.title(\"Bi-LSTM Forecast\")\n",
        "plt.xlabel(\"Months\")\n",
        "plt.ylabel(\"Passengers\")\n",
        "plt.legend()\n",
        "plt.show()"
      ],
      "metadata": {
        "colab": {
          "base_uri": "https://localhost:8080/",
          "height": 564
        },
        "id": "vGacz9hPUj5Q",
        "outputId": "755e59c5-c6d5-4973-bbf5-69a508119669"
      },
      "execution_count": 69,
      "outputs": [
        {
          "output_type": "display_data",
          "data": {
            "text/plain": [
              "<Figure size 1200x600 with 1 Axes>"
            ],
            "image/png": "[encoded data removed]"
          },
          "metadata": {}
        }
      ]
    },
    {
      "cell_type": "code",
      "source": [],
      "metadata": {
        "id": "-6BGcQLnXOFl"
      },
      "execution_count": 69,
      "outputs": []
    }
  ]
}