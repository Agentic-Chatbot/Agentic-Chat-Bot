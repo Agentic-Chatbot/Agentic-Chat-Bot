{
  "nbformat": 4,
  "nbformat_minor": 0,
  "metadata": {
    "colab": {
      "provenance": []
    },
    "kernelspec": {
      "name": "python3",
      "display_name": "Python 3"
    },
    "language_info": {
      "name": "python"
    }
  },
  "cells": [
    {
      "cell_type": "markdown",
      "source": [
        "Installing required packages"
      ],
      "metadata": {
        "id": "H5qvbyFP8kts"
      }
    },
    {
      "cell_type": "code",
      "execution_count": 23,
      "metadata": {
        "colab": {
          "base_uri": "https://localhost:8080/"
        },
        "id": "F_naNbME8YnM",
        "outputId": "2b2d553f-c2b2-4344-c56e-5eaedc0d2edb"
      },
      "outputs": [
        {
          "output_type": "stream",
          "name": "stdout",
          "text": [
            "Requirement already satisfied: scikit-optimize in /usr/local/lib/python3.12/dist-packages (0.10.2)\n",
            "Requirement already satisfied: joblib>=0.11 in /usr/local/lib/python3.12/dist-packages (from scikit-optimize) (1.5.1)\n",
            "Requirement already satisfied: pyaml>=16.9 in /usr/local/lib/python3.12/dist-packages (from scikit-optimize) (25.7.0)\n",
            "Requirement already satisfied: numpy>=1.20.3 in /usr/local/lib/python3.12/dist-packages (from scikit-optimize) (2.0.2)\n",
            "Requirement already satisfied: scipy>=1.1.0 in /usr/local/lib/python3.12/dist-packages (from scikit-optimize) (1.16.1)\n",
            "Requirement already satisfied: scikit-learn>=1.0.0 in /usr/local/lib/python3.12/dist-packages (from scikit-optimize) (1.6.1)\n",
            "Requirement already satisfied: packaging>=21.3 in /usr/local/lib/python3.12/dist-packages (from scikit-optimize) (25.0)\n",
            "Requirement already satisfied: PyYAML in /usr/local/lib/python3.12/dist-packages (from pyaml>=16.9->scikit-optimize) (6.0.2)\n",
            "Requirement already satisfied: threadpoolctl>=3.1.0 in /usr/local/lib/python3.12/dist-packages (from scikit-learn>=1.0.0->scikit-optimize) (3.6.0)\n"
          ]
        }
      ],
      "source": [
        "!pip install scikit-optimize"
      ]
    },
    {
      "cell_type": "markdown",
      "source": [
        "Importing the Dependencies"
      ],
      "metadata": {
        "id": "vNkzAl9O8pvz"
      }
    },
    {
      "cell_type": "code",
      "source": [
        "import pandas as pd\n",
        "import numpy as np\n",
        "import matplotlib.pyplot as plt\n",
        "import tensorflow as tf\n",
        "import random\n",
        "import csv\n",
        "from sklearn.preprocessing import MinMaxScaler\n",
        "from sklearn.model_selection import train_test_split\n",
        "from sklearn.metrics import mean_squared_error\n",
        "from tensorflow.keras.models import Sequential\n",
        "from tensorflow.keras.layers import Dense, LSTM\n",
        "from tensorflow.keras.optimizers import Adam, RMSprop, SGD\n",
        "from tensorflow.keras.callbacks import EarlyStopping\n",
        "from skopt import gp_minimize\n",
        "from skopt.space import Integer, Real, Categorical"
      ],
      "metadata": {
        "id": "4sg22ylm8pBs"
      },
      "execution_count": 24,
      "outputs": []
    },
    {
      "cell_type": "markdown",
      "source": [
        "Data Collection and Pre-processing"
      ],
      "metadata": {
        "id": "c1ZZcZ4i89qr"
      }
    },
    {
      "cell_type": "code",
      "source": [
        "# importing the dataset to Pandas Dataframe\n",
        "dataset = pd.read_csv(\"/content/airline-passengers.csv\",usecols=[1],engine='python')\n",
        "dataset.head()"
      ],
      "metadata": {
        "colab": {
          "base_uri": "https://localhost:8080/",
          "height": 206
        },
        "id": "AEO2qzWb8xxu",
        "outputId": "32cc9d39-719b-4009-bb22-f7cf22d87af5"
      },
      "execution_count": 25,
      "outputs": [
        {
          "output_type": "execute_result",
          "data": {
            "text/plain": [
              "   Passengers\n",
              "0         112\n",
              "1         118\n",
              "2         132\n",
              "3         129\n",
              "4         121"
            ],
            "text/html": [
              "\n",
              "  <div id=\"df-86b4b35f-1b89-4e59-8f46-3c8d6cf5688f\" class=\"colab-df-container\">\n",
              "    <div>\n",
              "<style scoped>\n",
              "    .dataframe tbody tr th:only-of-type {\n",
              "        vertical-align: middle;\n",
              "    }\n",
              "\n",
              "    .dataframe tbody tr th {\n",
              "        vertical-align: top;\n",
              "    }\n",
              "\n",
              "    .dataframe thead th {\n",
              "        text-align: right;\n",
              "    }\n",
              "</style>\n",
              "<table border=\"1\" class=\"dataframe\">\n",
              "  <thead>\n",
              "    <tr style=\"text-align: right;\">\n",
              "      <th></th>\n",
              "      <th>Passengers</th>\n",
              "    </tr>\n",
              "  </thead>\n",
              "  <tbody>\n",
              "    <tr>\n",
              "      <th>0</th>\n",
              "      <td>112</td>\n",
              "    </tr>\n",
              "    <tr>\n",
              "      <th>1</th>\n",
              "      <td>118</td>\n",
              "    </tr>\n",
              "    <tr>\n",
              "      <th>2</th>\n",
              "      <td>132</td>\n",
              "    </tr>\n",
              "    <tr>\n",
              "      <th>3</th>\n",
              "      <td>129</td>\n",
              "    </tr>\n",
              "    <tr>\n",
              "      <th>4</th>\n",
              "      <td>121</td>\n",
              "    </tr>\n",
              "  </tbody>\n",
              "</table>\n",
              "</div>\n",
              "    <div class=\"colab-df-buttons\">\n",
              "\n",
              "  <div class=\"colab-df-container\">\n",
              "    <button class=\"colab-df-convert\" onclick=\"convertToInteractive('df-86b4b35f-1b89-4e59-8f46-3c8d6cf5688f')\"\n",
              "            title=\"Convert this dataframe to an interactive table.\"\n",
              "            style=\"display:none;\">\n",
              "\n",
              "  <svg xmlns=\"http://www.w3.org/2000/svg\" height=\"24px\" viewBox=\"0 -960 960 960\">\n",
              "    <path d=\"M120-120v-720h720v720H120Zm60-500h600v-160H180v160Zm220 220h160v-160H400v160Zm0 220h160v-160H400v160ZM180-400h160v-160H180v160Zm440 0h160v-160H620v160ZM180-180h160v-160H180v160Zm440 0h160v-160H620v160Z\"/>\n",
              "  </svg>\n",
              "    </button>\n",
              "\n",
              "  <style>\n",
              "    .colab-df-container {\n",
              "      display:flex;\n",
              "      gap: 12px;\n",
              "    }\n",
              "\n",
              "    .colab-df-convert {\n",
              "      background-color: #E8F0FE;\n",
              "      border: none;\n",
              "      border-radius: 50%;\n",
              "      cursor: pointer;\n",
              "      display: none;\n",
              "      fill: #1967D2;\n",
              "      height: 32px;\n",
              "      padding: 0 0 0 0;\n",
              "      width: 32px;\n",
              "    }\n",
              "\n",
              "    .colab-df-convert:hover {\n",
              "      background-color: #E2EBFA;\n",
              "      box-shadow: 0px 1px 2px rgba(60, 64, 67, 0.3), 0px 1px 3px 1px rgba(60, 64, 67, 0.15);\n",
              "      fill: #174EA6;\n",
              "    }\n",
              "\n",
              "    .colab-df-buttons div {\n",
              "      margin-bottom: 4px;\n",
              "    }\n",
              "\n",
              "    [theme=dark] .colab-df-convert {\n",
              "      background-color: #3B4455;\n",
              "      fill: #D2E3FC;\n",
              "    }\n",
              "\n",
              "    [theme=dark] .colab-df-convert:hover {\n",
              "      background-color: #434B5C;\n",
              "      box-shadow: 0px 1px 3px 1px rgba(0, 0, 0, 0.15);\n",
              "      filter: drop-shadow(0px 1px 2px rgba(0, 0, 0, 0.3));\n",
              "      fill: #FFFFFF;\n",
              "    }\n",
              "  </style>\n",
              "\n",
              "    <script>\n",
              "      const buttonEl =\n",
              "        document.querySelector('#df-86b4b35f-1b89-4e59-8f46-3c8d6cf5688f button.colab-df-convert');\n",
              "      buttonEl.style.display =\n",
              "        google.colab.kernel.accessAllowed ? 'block' : 'none';\n",
              "\n",
              "      async function convertToInteractive(key) {\n",
              "        const element = document.querySelector('#df-86b4b35f-1b89-4e59-8f46-3c8d6cf5688f');\n",
              "        const dataTable =\n",
              "          await google.colab.kernel.invokeFunction('convertToInteractive',\n",
              "                                                    [key], {});\n",
              "        if (!dataTable) return;\n",
              "\n",
              "        const docLinkHtml = 'Like what you see? Visit the ' +\n",
              "          '<a target=\"_blank\" href=https://colab.research.google.com/notebooks/data_table.ipynb>data table notebook</a>'\n",
              "          + ' to learn more about interactive tables.';\n",
              "        element.innerHTML = '';\n",
              "        dataTable['output_type'] = 'display_data';\n",
              "        await google.colab.output.renderOutput(dataTable, element);\n",
              "        const docLink = document.createElement('div');\n",
              "        docLink.innerHTML = docLinkHtml;\n",
              "        element.appendChild(docLink);\n",
              "      }\n",
              "    </script>\n",
              "  </div>\n",
              "\n",
              "\n",
              "    <div id=\"df-c94d25d7-c209-4a7c-804d-dd3305c0f10b\">\n",
              "      <button class=\"colab-df-quickchart\" onclick=\"quickchart('df-c94d25d7-c209-4a7c-804d-dd3305c0f10b')\"\n",
              "                title=\"Suggest charts\"\n",
              "                style=\"display:none;\">\n",
              "\n",
              "<svg xmlns=\"http://www.w3.org/2000/svg\" height=\"24px\"viewBox=\"0 0 24 24\"\n",
              "     width=\"24px\">\n",
              "    <g>\n",
              "        <path d=\"M19 3H5c-1.1 0-2 .9-2 2v14c0 1.1.9 2 2 2h14c1.1 0 2-.9 2-2V5c0-1.1-.9-2-2-2zM9 17H7v-7h2v7zm4 0h-2V7h2v10zm4 0h-2v-4h2v4z\"/>\n",
              "    </g>\n",
              "</svg>\n",
              "      </button>\n",
              "\n",
              "<style>\n",
              "  .colab-df-quickchart {\n",
              "      --bg-color: #E8F0FE;\n",
              "      --fill-color: #1967D2;\n",
              "      --hover-bg-color: #E2EBFA;\n",
              "      --hover-fill-color: #174EA6;\n",
              "      --disabled-fill-color: #AAA;\n",
              "      --disabled-bg-color: #DDD;\n",
              "  }\n",
              "\n",
              "  [theme=dark] .colab-df-quickchart {\n",
              "      --bg-color: #3B4455;\n",
              "      --fill-color: #D2E3FC;\n",
              "      --hover-bg-color: #434B5C;\n",
              "      --hover-fill-color: #FFFFFF;\n",
              "      --disabled-bg-color: #3B4455;\n",
              "      --disabled-fill-color: #666;\n",
              "  }\n",
              "\n",
              "  .colab-df-quickchart {\n",
              "    background-color: var(--bg-color);\n",
              "    border: none;\n",
              "    border-radius: 50%;\n",
              "    cursor: pointer;\n",
              "    display: none;\n",
              "    fill: var(--fill-color);\n",
              "    height: 32px;\n",
              "    padding: 0;\n",
              "    width: 32px;\n",
              "  }\n",
              "\n",
              "  .colab-df-quickchart:hover {\n",
              "    background-color: var(--hover-bg-color);\n",
              "    box-shadow: 0 1px 2px rgba(60, 64, 67, 0.3), 0 1px 3px 1px rgba(60, 64, 67, 0.15);\n",
              "    fill: var(--button-hover-fill-color);\n",
              "  }\n",
              "\n",
              "  .colab-df-quickchart-complete:disabled,\n",
              "  .colab-df-quickchart-complete:disabled:hover {\n",
              "    background-color: var(--disabled-bg-color);\n",
              "    fill: var(--disabled-fill-color);\n",
              "    box-shadow: none;\n",
              "  }\n",
              "\n",
              "  .colab-df-spinner {\n",
              "    border: 2px solid var(--fill-color);\n",
              "    border-color: transparent;\n",
              "    border-bottom-color: var(--fill-color);\n",
              "    animation:\n",
              "      spin 1s steps(1) infinite;\n",
              "  }\n",
              "\n",
              "  @keyframes spin {\n",
              "    0% {\n",
              "      border-color: transparent;\n",
              "      border-bottom-color: var(--fill-color);\n",
              "      border-left-color: var(--fill-color);\n",
              "    }\n",
              "    20% {\n",
              "      border-color: transparent;\n",
              "      border-left-color: var(--fill-color);\n",
              "      border-top-color: var(--fill-color);\n",
              "    }\n",
              "    30% {\n",
              "      border-color: transparent;\n",
              "      border-left-color: var(--fill-color);\n",
              "      border-top-color: var(--fill-color);\n",
              "      border-right-color: var(--fill-color);\n",
              "    }\n",
              "    40% {\n",
              "      border-color: transparent;\n",
              "      border-right-color: var(--fill-color);\n",
              "      border-top-color: var(--fill-color);\n",
              "    }\n",
              "    60% {\n",
              "      border-color: transparent;\n",
              "      border-right-color: var(--fill-color);\n",
              "    }\n",
              "    80% {\n",
              "      border-color: transparent;\n",
              "      border-right-color: var(--fill-color);\n",
              "      border-bottom-color: var(--fill-color);\n",
              "    }\n",
              "    90% {\n",
              "      border-color: transparent;\n",
              "      border-bottom-color: var(--fill-color);\n",
              "    }\n",
              "  }\n",
              "</style>\n",
              "\n",
              "      <script>\n",
              "        async function quickchart(key) {\n",
              "          const quickchartButtonEl =\n",
              "            document.querySelector('#' + key + ' button');\n",
              "          quickchartButtonEl.disabled = true;  // To prevent multiple clicks.\n",
              "          quickchartButtonEl.classList.add('colab-df-spinner');\n",
              "          try {\n",
              "            const charts = await google.colab.kernel.invokeFunction(\n",
              "                'suggestCharts', [key], {});\n",
              "          } catch (error) {\n",
              "            console.error('Error during call to suggestCharts:', error);\n",
              "          }\n",
              "          quickchartButtonEl.classList.remove('colab-df-spinner');\n",
              "          quickchartButtonEl.classList.add('colab-df-quickchart-complete');\n",
              "        }\n",
              "        (() => {\n",
              "          let quickchartButtonEl =\n",
              "            document.querySelector('#df-c94d25d7-c209-4a7c-804d-dd3305c0f10b button');\n",
              "          quickchartButtonEl.style.display =\n",
              "            google.colab.kernel.accessAllowed ? 'block' : 'none';\n",
              "        })();\n",
              "      </script>\n",
              "    </div>\n",
              "\n",
              "    </div>\n",
              "  </div>\n"
            ],
            "application/vnd.google.colaboratory.intrinsic+json": {
              "type": "dataframe",
              "variable_name": "dataset",
              "summary": "{\n  \"name\": \"dataset\",\n  \"rows\": 144,\n  \"fields\": [\n    {\n      \"column\": \"Passengers\",\n      \"properties\": {\n        \"dtype\": \"number\",\n        \"std\": 119,\n        \"min\": 104,\n        \"max\": 622,\n        \"num_unique_values\": 118,\n        \"samples\": [\n          293,\n          340,\n          121\n        ],\n        \"semantic_type\": \"\",\n        \"description\": \"\"\n      }\n    }\n  ]\n}"
            }
          },
          "metadata": {},
          "execution_count": 25
        }
      ]
    },
    {
      "cell_type": "code",
      "source": [
        "# no. of rows and columns\n",
        "dataset.shape"
      ],
      "metadata": {
        "colab": {
          "base_uri": "https://localhost:8080/"
        },
        "id": "wUKzPpNL9JmS",
        "outputId": "bc6f5df2-6015-46dd-eb63-3c982d13277f"
      },
      "execution_count": 26,
      "outputs": [
        {
          "output_type": "execute_result",
          "data": {
            "text/plain": [
              "(144, 1)"
            ]
          },
          "metadata": {},
          "execution_count": 26
        }
      ]
    },
    {
      "cell_type": "code",
      "source": [
        "# checking empty values in dataset\n",
        "dataset.isnull().sum()"
      ],
      "metadata": {
        "colab": {
          "base_uri": "https://localhost:8080/",
          "height": 115
        },
        "id": "b06iz_Mk9PCQ",
        "outputId": "1996ffaf-4d9b-4f30-ef27-501dbb3d18d0"
      },
      "execution_count": 27,
      "outputs": [
        {
          "output_type": "execute_result",
          "data": {
            "text/plain": [
              "Passengers    0\n",
              "dtype: int64"
            ],
            "text/html": [
              "<div>\n",
              "<style scoped>\n",
              "    .dataframe tbody tr th:only-of-type {\n",
              "        vertical-align: middle;\n",
              "    }\n",
              "\n",
              "    .dataframe tbody tr th {\n",
              "        vertical-align: top;\n",
              "    }\n",
              "\n",
              "    .dataframe thead th {\n",
              "        text-align: right;\n",
              "    }\n",
              "</style>\n",
              "<table border=\"1\" class=\"dataframe\">\n",
              "  <thead>\n",
              "    <tr style=\"text-align: right;\">\n",
              "      <th></th>\n",
              "      <th>0</th>\n",
              "    </tr>\n",
              "  </thead>\n",
              "  <tbody>\n",
              "    <tr>\n",
              "      <th>Passengers</th>\n",
              "      <td>0</td>\n",
              "    </tr>\n",
              "  </tbody>\n",
              "</table>\n",
              "</div><br><label><b>dtype:</b> int64</label>"
            ]
          },
          "metadata": {},
          "execution_count": 27
        }
      ]
    },
    {
      "cell_type": "code",
      "source": [
        "# converting dataset to numpy array\n",
        "dataset = dataset.values.astype('int32')\n",
        "print(type(dataset))"
      ],
      "metadata": {
        "colab": {
          "base_uri": "https://localhost:8080/"
        },
        "id": "3X0pibY89Sja",
        "outputId": "8651e968-4018-4e7a-fbd3-ab463d8bbc1e"
      },
      "execution_count": 28,
      "outputs": [
        {
          "output_type": "stream",
          "name": "stdout",
          "text": [
            "<class 'numpy.ndarray'>\n"
          ]
        }
      ]
    },
    {
      "cell_type": "code",
      "source": [
        "dataset"
      ],
      "metadata": {
        "colab": {
          "base_uri": "https://localhost:8080/"
        },
        "id": "_-GC-AXb9UEJ",
        "outputId": "a08fcde3-3e73-481e-9d4a-291b5851e7a4"
      },
      "execution_count": 29,
      "outputs": [
        {
          "output_type": "execute_result",
          "data": {
            "text/plain": [
              "array([[112],\n",
              "       [118],\n",
              "       [132],\n",
              "       [129],\n",
              "       [121],\n",
              "       [135],\n",
              "       [148],\n",
              "       [148],\n",
              "       [136],\n",
              "       [119],\n",
              "       [104],\n",
              "       [118],\n",
              "       [115],\n",
              "       [126],\n",
              "       [141],\n",
              "       [135],\n",
              "       [125],\n",
              "       [149],\n",
              "       [170],\n",
              "       [170],\n",
              "       [158],\n",
              "       [133],\n",
              "       [114],\n",
              "       [140],\n",
              "       [145],\n",
              "       [150],\n",
              "       [178],\n",
              "       [163],\n",
              "       [172],\n",
              "       [178],\n",
              "       [199],\n",
              "       [199],\n",
              "       [184],\n",
              "       [162],\n",
              "       [146],\n",
              "       [166],\n",
              "       [171],\n",
              "       [180],\n",
              "       [193],\n",
              "       [181],\n",
              "       [183],\n",
              "       [218],\n",
              "       [230],\n",
              "       [242],\n",
              "       [209],\n",
              "       [191],\n",
              "       [172],\n",
              "       [194],\n",
              "       [196],\n",
              "       [196],\n",
              "       [236],\n",
              "       [235],\n",
              "       [229],\n",
              "       [243],\n",
              "       [264],\n",
              "       [272],\n",
              "       [237],\n",
              "       [211],\n",
              "       [180],\n",
              "       [201],\n",
              "       [204],\n",
              "       [188],\n",
              "       [235],\n",
              "       [227],\n",
              "       [234],\n",
              "       [264],\n",
              "       [302],\n",
              "       [293],\n",
              "       [259],\n",
              "       [229],\n",
              "       [203],\n",
              "       [229],\n",
              "       [242],\n",
              "       [233],\n",
              "       [267],\n",
              "       [269],\n",
              "       [270],\n",
              "       [315],\n",
              "       [364],\n",
              "       [347],\n",
              "       [312],\n",
              "       [274],\n",
              "       [237],\n",
              "       [278],\n",
              "       [284],\n",
              "       [277],\n",
              "       [317],\n",
              "       [313],\n",
              "       [318],\n",
              "       [374],\n",
              "       [413],\n",
              "       [405],\n",
              "       [355],\n",
              "       [306],\n",
              "       [271],\n",
              "       [306],\n",
              "       [315],\n",
              "       [301],\n",
              "       [356],\n",
              "       [348],\n",
              "       [355],\n",
              "       [422],\n",
              "       [465],\n",
              "       [467],\n",
              "       [404],\n",
              "       [347],\n",
              "       [305],\n",
              "       [336],\n",
              "       [340],\n",
              "       [318],\n",
              "       [362],\n",
              "       [348],\n",
              "       [363],\n",
              "       [435],\n",
              "       [491],\n",
              "       [505],\n",
              "       [404],\n",
              "       [359],\n",
              "       [310],\n",
              "       [337],\n",
              "       [360],\n",
              "       [342],\n",
              "       [406],\n",
              "       [396],\n",
              "       [420],\n",
              "       [472],\n",
              "       [548],\n",
              "       [559],\n",
              "       [463],\n",
              "       [407],\n",
              "       [362],\n",
              "       [405],\n",
              "       [417],\n",
              "       [391],\n",
              "       [419],\n",
              "       [461],\n",
              "       [472],\n",
              "       [535],\n",
              "       [622],\n",
              "       [606],\n",
              "       [508],\n",
              "       [461],\n",
              "       [390],\n",
              "       [432]], dtype=int32)"
            ]
          },
          "metadata": {},
          "execution_count": 29
        }
      ]
    },
    {
      "cell_type": "markdown",
      "source": [
        "Data Scaling"
      ],
      "metadata": {
        "id": "ztLtaY3DAE7Q"
      }
    },
    {
      "cell_type": "code",
      "source": [
        "# Scaling the values between 0 and 1\n",
        "scaler = MinMaxScaler(feature_range=(0,1))\n",
        "dataset = scaler.fit_transform(dataset)"
      ],
      "metadata": {
        "id": "V3vF3ddG9XqH"
      },
      "execution_count": 30,
      "outputs": []
    },
    {
      "cell_type": "markdown",
      "source": [
        "Data Splitting"
      ],
      "metadata": {
        "id": "OP487KEVACHg"
      }
    },
    {
      "cell_type": "code",
      "source": [
        "# Splitting the data into train data and test data\n",
        "train, test = train_test_split(dataset, test_size=0.33, shuffle=False)\n",
        "print(\"Training data: \",train)\n",
        "print(\"Testing data: \",test)"
      ],
      "metadata": {
        "colab": {
          "base_uri": "https://localhost:8080/"
        },
        "id": "r0sdRqvy9Z5k",
        "outputId": "b15577e1-6f8b-427e-d0ae-133bcb813283"
      },
      "execution_count": 31,
      "outputs": [
        {
          "output_type": "stream",
          "name": "stdout",
          "text": [
            "Training data:  [[0.01544402]\n",
            " [0.02702703]\n",
            " [0.05405405]\n",
            " [0.04826255]\n",
            " [0.03281853]\n",
            " [0.05984556]\n",
            " [0.08494208]\n",
            " [0.08494208]\n",
            " [0.06177606]\n",
            " [0.02895753]\n",
            " [0.        ]\n",
            " [0.02702703]\n",
            " [0.02123552]\n",
            " [0.04247104]\n",
            " [0.07142857]\n",
            " [0.05984556]\n",
            " [0.04054054]\n",
            " [0.08687259]\n",
            " [0.12741313]\n",
            " [0.12741313]\n",
            " [0.1042471 ]\n",
            " [0.05598456]\n",
            " [0.01930502]\n",
            " [0.06949807]\n",
            " [0.07915058]\n",
            " [0.08880309]\n",
            " [0.14285714]\n",
            " [0.11389961]\n",
            " [0.13127413]\n",
            " [0.14285714]\n",
            " [0.18339768]\n",
            " [0.18339768]\n",
            " [0.15444015]\n",
            " [0.11196911]\n",
            " [0.08108108]\n",
            " [0.11969112]\n",
            " [0.12934363]\n",
            " [0.14671815]\n",
            " [0.17181467]\n",
            " [0.14864865]\n",
            " [0.15250965]\n",
            " [0.22007722]\n",
            " [0.24324324]\n",
            " [0.26640927]\n",
            " [0.2027027 ]\n",
            " [0.16795367]\n",
            " [0.13127413]\n",
            " [0.17374517]\n",
            " [0.17760618]\n",
            " [0.17760618]\n",
            " [0.25482625]\n",
            " [0.25289575]\n",
            " [0.24131274]\n",
            " [0.26833977]\n",
            " [0.30888031]\n",
            " [0.32432432]\n",
            " [0.25675676]\n",
            " [0.20656371]\n",
            " [0.14671815]\n",
            " [0.18725869]\n",
            " [0.19305019]\n",
            " [0.16216216]\n",
            " [0.25289575]\n",
            " [0.23745174]\n",
            " [0.25096525]\n",
            " [0.30888031]\n",
            " [0.38223938]\n",
            " [0.36486486]\n",
            " [0.2992278 ]\n",
            " [0.24131274]\n",
            " [0.19111969]\n",
            " [0.24131274]\n",
            " [0.26640927]\n",
            " [0.24903475]\n",
            " [0.31467181]\n",
            " [0.31853282]\n",
            " [0.32046332]\n",
            " [0.40733591]\n",
            " [0.5019305 ]\n",
            " [0.46911197]\n",
            " [0.4015444 ]\n",
            " [0.32818533]\n",
            " [0.25675676]\n",
            " [0.33590734]\n",
            " [0.34749035]\n",
            " [0.33397683]\n",
            " [0.41119691]\n",
            " [0.4034749 ]\n",
            " [0.41312741]\n",
            " [0.52123552]\n",
            " [0.5965251 ]\n",
            " [0.58108108]\n",
            " [0.48455598]\n",
            " [0.38996139]\n",
            " [0.32239382]\n",
            " [0.38996139]]\n",
            "Testing data:  [[0.40733591]\n",
            " [0.38030888]\n",
            " [0.48648649]\n",
            " [0.47104247]\n",
            " [0.48455598]\n",
            " [0.61389961]\n",
            " [0.6969112 ]\n",
            " [0.7007722 ]\n",
            " [0.57915058]\n",
            " [0.46911197]\n",
            " [0.38803089]\n",
            " [0.44787645]\n",
            " [0.45559846]\n",
            " [0.41312741]\n",
            " [0.4980695 ]\n",
            " [0.47104247]\n",
            " [0.5       ]\n",
            " [0.63899614]\n",
            " [0.74710425]\n",
            " [0.77413127]\n",
            " [0.57915058]\n",
            " [0.49227799]\n",
            " [0.3976834 ]\n",
            " [0.44980695]\n",
            " [0.49420849]\n",
            " [0.45945946]\n",
            " [0.58301158]\n",
            " [0.56370656]\n",
            " [0.61003861]\n",
            " [0.71042471]\n",
            " [0.85714286]\n",
            " [0.87837838]\n",
            " [0.69305019]\n",
            " [0.58494208]\n",
            " [0.4980695 ]\n",
            " [0.58108108]\n",
            " [0.6042471 ]\n",
            " [0.55405405]\n",
            " [0.60810811]\n",
            " [0.68918919]\n",
            " [0.71042471]\n",
            " [0.83204633]\n",
            " [1.        ]\n",
            " [0.96911197]\n",
            " [0.77992278]\n",
            " [0.68918919]\n",
            " [0.55212355]\n",
            " [0.63320463]]\n"
          ]
        }
      ]
    },
    {
      "cell_type": "markdown",
      "source": [
        "Function to create 2 numpy arrays:\n",
        "\n",
        "\n",
        "\n",
        "*   dataX which stores the past look_back no. of values\n",
        "*   dataY which stores the next value\n",
        "\n"
      ],
      "metadata": {
        "id": "9PtcwB8l9d-S"
      }
    },
    {
      "cell_type": "code",
      "source": [
        "def create_dataset(dataset, look_back=1):\n",
        "    dataX, dataY = [], []\n",
        "    for i in range(len(dataset)-look_back-1):\n",
        "        a = dataset[i:(i+look_back),0]\n",
        "        dataX.append(a)\n",
        "        dataY.append(dataset[i+look_back,0])\n",
        "    return np.array(dataX), np.array(dataY)"
      ],
      "metadata": {
        "id": "DSdxROqO9bb6"
      },
      "execution_count": 32,
      "outputs": []
    },
    {
      "cell_type": "markdown",
      "source": [
        "Building LSTM Model"
      ],
      "metadata": {
        "id": "YGSxmfwY9h_j"
      }
    },
    {
      "cell_type": "code",
      "source": [
        "def build_lstm_model(units=50, look_back=1, optimizer='adam', learning_rate=0.001, loss='mse'):\n",
        "    model = Sequential()\n",
        "    model.add(LSTM(units, input_shape=(1, look_back)))\n",
        "    model.add(Dense(1))\n",
        "\n",
        "    if optimizer=='adam':\n",
        "        opt = Adam(learning_rate=learning_rate)\n",
        "    elif optimizer=='rmsprop':\n",
        "        opt = RMSprop(learning_rate=learning_rate)\n",
        "    elif optimizer=='sgd':\n",
        "        opt = SGD(learning_rate=learning_rate)\n",
        "\n",
        "    model.compile(loss=loss, optimizer=opt)\n",
        "    return model"
      ],
      "metadata": {
        "id": "sB004_A79gSg"
      },
      "execution_count": 33,
      "outputs": []
    },
    {
      "cell_type": "markdown",
      "source": [
        "The evaluate_model function trains an LSTM with given hyperparameters on the training data, predicts on the test data, and returns the model’s RMSE as a measure of performance."
      ],
      "metadata": {
        "id": "Wu0MwlkN9p1K"
      }
    },
    {
      "cell_type": "code",
      "source": [
        "def evaluate_model(units, batch_size, epochs, optimizer, look_back, learning_rate):\n",
        "    trainX, trainY = create_dataset(train, look_back)\n",
        "    testX, testY   = create_dataset(test, look_back)\n",
        "\n",
        "    trainX = np.reshape(trainX, (trainX.shape[0], 1, trainX.shape[1]))\n",
        "    testX  = np.reshape(testX,  (testX.shape[0], 1, testX.shape[1]))\n",
        "\n",
        "    model = build_lstm_model(units, look_back, optimizer, learning_rate, loss='mse')\n",
        "    early_stop = EarlyStopping(monitor='val_loss', patience=5)\n",
        "\n",
        "    model.fit(trainX, trainY,\n",
        "              epochs=epochs,\n",
        "              batch_size=batch_size,\n",
        "              validation_data=(testX, testY),\n",
        "              verbose=0,\n",
        "              callbacks=[early_stop])\n",
        "\n",
        "    testPredict = model.predict(testX, verbose=0)\n",
        "    testPredict = scaler.inverse_transform(testPredict)\n",
        "    testY_rescaled = scaler.inverse_transform([testY])\n",
        "    rmse = np.sqrt(mean_squared_error(testY_rescaled[0], testPredict[:,0]))\n",
        "\n",
        "    return rmse"
      ],
      "metadata": {
        "id": "WSo2aNje9kRa"
      },
      "execution_count": 34,
      "outputs": []
    },
    {
      "cell_type": "code",
      "source": [
        "# defining the search space for Bayesian Optimization\n",
        "search_space = [\n",
        "    Integer(4, 128, name='units'),\n",
        "    Integer(1, 32, name='batch_size'),\n",
        "    Integer(20, 100, name='epochs'),\n",
        "    Categorical(['adam', 'rmsprop', 'sgd'], name='optimizer'),\n",
        "    Integer(1, 5, name='look_back'),\n",
        "    Real(1e-4, 3e-3, \"log-uniform\", name='learning_rate')\n",
        "]"
      ],
      "metadata": {
        "id": "w_td3S4Q9uRC"
      },
      "execution_count": 45,
      "outputs": []
    },
    {
      "cell_type": "markdown",
      "source": [
        "The objective function evaluates a set of hyperparameters by training the LSTM model and returning its RMSE and also logging the results to the CSV file.\n"
      ],
      "metadata": {
        "id": "fri0ZqSCA6Tf"
      }
    },
    {
      "cell_type": "code",
      "source": [
        "def objective(params):\n",
        "    units, batch_size, epochs, optimizer, look_back, learning_rate = params\n",
        "\n",
        "    units = int(units)\n",
        "    batch_size = int(batch_size)\n",
        "    epochs = int(epochs)\n",
        "    look_back = int(look_back)\n",
        "\n",
        "    rmse = evaluate_model(\n",
        "        units=units,\n",
        "        batch_size=batch_size,\n",
        "        epochs=epochs,\n",
        "        optimizer=optimizer,\n",
        "        look_back=look_back,\n",
        "        learning_rate=learning_rate\n",
        "    )\n",
        "    print(f\"Params: units={units}, batch_size={batch_size}, epochs={epochs}, optimizer={optimizer}, look_back={look_back}, lr={learning_rate:.5f} -> RMSE={rmse:.2f}\")\n",
        "\n",
        "    # Log this trial\n",
        "    writer.writerow([units, batch_size, epochs, optimizer, look_back, learning_rate, rmse])\n",
        "    f.flush()\n",
        "    return rmse\n"
      ],
      "metadata": {
        "id": "RYQ5Z8Ix-vyP"
      },
      "execution_count": 42,
      "outputs": []
    },
    {
      "cell_type": "markdown",
      "source": [
        "Run Bayesian Optimization using gp_minimize while appending each trial's hyperparameters and RMSE to the CSV file."
      ],
      "metadata": {
        "id": "eBCY237uCnKW"
      }
    },
    {
      "cell_type": "code",
      "source": [
        "csv_file = 'bayesian_trials.csv'\n",
        "f = open(csv_file, 'a', newline='')\n",
        "writer = csv.writer(f)\n",
        "\n",
        "result = gp_minimize(\n",
        "    func=objective,\n",
        "    dimensions=search_space,\n",
        "    acq_func='EI',\n",
        "    n_calls=20,\n",
        "    random_state=1\n",
        ")\n",
        "\n",
        "f.close()"
      ],
      "metadata": {
        "colab": {
          "base_uri": "https://localhost:8080/"
        },
        "id": "ZpP5rskn_n2z",
        "outputId": "95b9c82e-f356-4d6e-a482-82706f010b85"
      },
      "execution_count": 47,
      "outputs": [
        {
          "output_type": "stream",
          "name": "stderr",
          "text": [
            "/usr/local/lib/python3.12/dist-packages/keras/src/layers/rnn/rnn.py:199: UserWarning: Do not pass an `input_shape`/`input_dim` argument to a layer. When using Sequential models, prefer using an `Input(shape)` object as the first layer in the model instead.\n",
            "  super().__init__(**kwargs)\n"
          ]
        },
        {
          "output_type": "stream",
          "name": "stdout",
          "text": [
            "Params: units=128, batch_size=30, epochs=30, optimizer=sgd, look_back=2, lr=0.00039 -> RMSE=293.68\n"
          ]
        },
        {
          "output_type": "stream",
          "name": "stderr",
          "text": [
            "/usr/local/lib/python3.12/dist-packages/keras/src/layers/rnn/rnn.py:199: UserWarning: Do not pass an `input_shape`/`input_dim` argument to a layer. When using Sequential models, prefer using an `Input(shape)` object as the first layer in the model instead.\n",
            "  super().__init__(**kwargs)\n"
          ]
        },
        {
          "output_type": "stream",
          "name": "stdout",
          "text": [
            "Params: units=52, batch_size=22, epochs=95, optimizer=sgd, look_back=2, lr=0.00060 -> RMSE=281.28\n"
          ]
        },
        {
          "output_type": "stream",
          "name": "stderr",
          "text": [
            "/usr/local/lib/python3.12/dist-packages/keras/src/layers/rnn/rnn.py:199: UserWarning: Do not pass an `input_shape`/`input_dim` argument to a layer. When using Sequential models, prefer using an `Input(shape)` object as the first layer in the model instead.\n",
            "  super().__init__(**kwargs)\n"
          ]
        },
        {
          "output_type": "stream",
          "name": "stdout",
          "text": [
            "Params: units=59, batch_size=8, epochs=63, optimizer=sgd, look_back=3, lr=0.00043 -> RMSE=257.96\n"
          ]
        },
        {
          "output_type": "stream",
          "name": "stderr",
          "text": [
            "/usr/local/lib/python3.12/dist-packages/keras/src/layers/rnn/rnn.py:199: UserWarning: Do not pass an `input_shape`/`input_dim` argument to a layer. When using Sequential models, prefer using an `Input(shape)` object as the first layer in the model instead.\n",
            "  super().__init__(**kwargs)\n"
          ]
        },
        {
          "output_type": "stream",
          "name": "stdout",
          "text": [
            "Params: units=120, batch_size=25, epochs=77, optimizer=sgd, look_back=1, lr=0.00058 -> RMSE=290.38\n"
          ]
        },
        {
          "output_type": "stream",
          "name": "stderr",
          "text": [
            "/usr/local/lib/python3.12/dist-packages/keras/src/layers/rnn/rnn.py:199: UserWarning: Do not pass an `input_shape`/`input_dim` argument to a layer. When using Sequential models, prefer using an `Input(shape)` object as the first layer in the model instead.\n",
            "  super().__init__(**kwargs)\n"
          ]
        },
        {
          "output_type": "stream",
          "name": "stdout",
          "text": [
            "Params: units=111, batch_size=27, epochs=86, optimizer=adam, look_back=1, lr=0.00098 -> RMSE=50.00\n"
          ]
        },
        {
          "output_type": "stream",
          "name": "stderr",
          "text": [
            "/usr/local/lib/python3.12/dist-packages/keras/src/layers/rnn/rnn.py:199: UserWarning: Do not pass an `input_shape`/`input_dim` argument to a layer. When using Sequential models, prefer using an `Input(shape)` object as the first layer in the model instead.\n",
            "  super().__init__(**kwargs)\n"
          ]
        },
        {
          "output_type": "stream",
          "name": "stdout",
          "text": [
            "Params: units=78, batch_size=22, epochs=53, optimizer=adam, look_back=2, lr=0.00016 -> RMSE=173.17\n"
          ]
        },
        {
          "output_type": "stream",
          "name": "stderr",
          "text": [
            "/usr/local/lib/python3.12/dist-packages/keras/src/layers/rnn/rnn.py:199: UserWarning: Do not pass an `input_shape`/`input_dim` argument to a layer. When using Sequential models, prefer using an `Input(shape)` object as the first layer in the model instead.\n",
            "  super().__init__(**kwargs)\n"
          ]
        },
        {
          "output_type": "stream",
          "name": "stdout",
          "text": [
            "Params: units=101, batch_size=14, epochs=23, optimizer=rmsprop, look_back=4, lr=0.00028 -> RMSE=116.80\n"
          ]
        },
        {
          "output_type": "stream",
          "name": "stderr",
          "text": [
            "/usr/local/lib/python3.12/dist-packages/keras/src/layers/rnn/rnn.py:199: UserWarning: Do not pass an `input_shape`/`input_dim` argument to a layer. When using Sequential models, prefer using an `Input(shape)` object as the first layer in the model instead.\n",
            "  super().__init__(**kwargs)\n"
          ]
        },
        {
          "output_type": "stream",
          "name": "stdout",
          "text": [
            "Params: units=59, batch_size=8, epochs=26, optimizer=rmsprop, look_back=1, lr=0.00216 -> RMSE=51.34\n"
          ]
        },
        {
          "output_type": "stream",
          "name": "stderr",
          "text": [
            "/usr/local/lib/python3.12/dist-packages/keras/src/layers/rnn/rnn.py:199: UserWarning: Do not pass an `input_shape`/`input_dim` argument to a layer. When using Sequential models, prefer using an `Input(shape)` object as the first layer in the model instead.\n",
            "  super().__init__(**kwargs)\n"
          ]
        },
        {
          "output_type": "stream",
          "name": "stdout",
          "text": [
            "Params: units=19, batch_size=17, epochs=27, optimizer=sgd, look_back=5, lr=0.00028 -> RMSE=341.78\n"
          ]
        },
        {
          "output_type": "stream",
          "name": "stderr",
          "text": [
            "/usr/local/lib/python3.12/dist-packages/keras/src/layers/rnn/rnn.py:199: UserWarning: Do not pass an `input_shape`/`input_dim` argument to a layer. When using Sequential models, prefer using an `Input(shape)` object as the first layer in the model instead.\n",
            "  super().__init__(**kwargs)\n"
          ]
        },
        {
          "output_type": "stream",
          "name": "stdout",
          "text": [
            "Params: units=76, batch_size=19, epochs=69, optimizer=sgd, look_back=2, lr=0.00022 -> RMSE=292.51\n"
          ]
        },
        {
          "output_type": "stream",
          "name": "stderr",
          "text": [
            "/usr/local/lib/python3.12/dist-packages/keras/src/layers/rnn/rnn.py:199: UserWarning: Do not pass an `input_shape`/`input_dim` argument to a layer. When using Sequential models, prefer using an `Input(shape)` object as the first layer in the model instead.\n",
            "  super().__init__(**kwargs)\n"
          ]
        },
        {
          "output_type": "stream",
          "name": "stdout",
          "text": [
            "Params: units=128, batch_size=32, epochs=100, optimizer=adam, look_back=3, lr=0.00179 -> RMSE=105.16\n"
          ]
        },
        {
          "output_type": "stream",
          "name": "stderr",
          "text": [
            "/usr/local/lib/python3.12/dist-packages/keras/src/layers/rnn/rnn.py:199: UserWarning: Do not pass an `input_shape`/`input_dim` argument to a layer. When using Sequential models, prefer using an `Input(shape)` object as the first layer in the model instead.\n",
            "  super().__init__(**kwargs)\n"
          ]
        },
        {
          "output_type": "stream",
          "name": "stdout",
          "text": [
            "Params: units=128, batch_size=1, epochs=20, optimizer=rmsprop, look_back=1, lr=0.00103 -> RMSE=52.80\n"
          ]
        },
        {
          "output_type": "stream",
          "name": "stderr",
          "text": [
            "/usr/local/lib/python3.12/dist-packages/keras/src/layers/rnn/rnn.py:199: UserWarning: Do not pass an `input_shape`/`input_dim` argument to a layer. When using Sequential models, prefer using an `Input(shape)` object as the first layer in the model instead.\n",
            "  super().__init__(**kwargs)\n"
          ]
        },
        {
          "output_type": "stream",
          "name": "stdout",
          "text": [
            "Params: units=4, batch_size=32, epochs=100, optimizer=adam, look_back=5, lr=0.00300 -> RMSE=62.27\n"
          ]
        },
        {
          "output_type": "stream",
          "name": "stderr",
          "text": [
            "/usr/local/lib/python3.12/dist-packages/keras/src/layers/rnn/rnn.py:199: UserWarning: Do not pass an `input_shape`/`input_dim` argument to a layer. When using Sequential models, prefer using an `Input(shape)` object as the first layer in the model instead.\n",
            "  super().__init__(**kwargs)\n"
          ]
        },
        {
          "output_type": "stream",
          "name": "stdout",
          "text": [
            "Params: units=4, batch_size=1, epochs=20, optimizer=rmsprop, look_back=1, lr=0.00300 -> RMSE=54.12\n"
          ]
        },
        {
          "output_type": "stream",
          "name": "stderr",
          "text": [
            "/usr/local/lib/python3.12/dist-packages/keras/src/layers/rnn/rnn.py:199: UserWarning: Do not pass an `input_shape`/`input_dim` argument to a layer. When using Sequential models, prefer using an `Input(shape)` object as the first layer in the model instead.\n",
            "  super().__init__(**kwargs)\n"
          ]
        },
        {
          "output_type": "stream",
          "name": "stdout",
          "text": [
            "Params: units=128, batch_size=32, epochs=100, optimizer=rmsprop, look_back=2, lr=0.00010 -> RMSE=156.37\n"
          ]
        },
        {
          "output_type": "stream",
          "name": "stderr",
          "text": [
            "/usr/local/lib/python3.12/dist-packages/skopt/optimizer/optimizer.py:517: UserWarning: The objective has been evaluated at point [np.int64(4), np.int64(1), np.int64(20), np.str_('rmsprop'), np.int64(1), 0.003] before, using random point [np.int64(32), np.int64(18), np.int64(55), 'adam', np.int64(2), 0.000736148247663639]\n",
            "  warnings.warn(\n",
            "/usr/local/lib/python3.12/dist-packages/keras/src/layers/rnn/rnn.py:199: UserWarning: Do not pass an `input_shape`/`input_dim` argument to a layer. When using Sequential models, prefer using an `Input(shape)` object as the first layer in the model instead.\n",
            "  super().__init__(**kwargs)\n"
          ]
        },
        {
          "output_type": "stream",
          "name": "stdout",
          "text": [
            "Params: units=32, batch_size=18, epochs=55, optimizer=adam, look_back=2, lr=0.00074 -> RMSE=73.62\n"
          ]
        },
        {
          "output_type": "stream",
          "name": "stderr",
          "text": [
            "/usr/local/lib/python3.12/dist-packages/skopt/optimizer/optimizer.py:517: UserWarning: The objective has been evaluated at point [np.int64(4), np.int64(1), np.int64(20), np.str_('rmsprop'), np.int64(1), 0.003] before, using random point [np.int64(98), np.int64(15), np.int64(63), 'rmsprop', np.int64(4), 0.00010030674340356781]\n",
            "  warnings.warn(\n",
            "/usr/local/lib/python3.12/dist-packages/keras/src/layers/rnn/rnn.py:199: UserWarning: Do not pass an `input_shape`/`input_dim` argument to a layer. When using Sequential models, prefer using an `Input(shape)` object as the first layer in the model instead.\n",
            "  super().__init__(**kwargs)\n"
          ]
        },
        {
          "output_type": "stream",
          "name": "stdout",
          "text": [
            "Params: units=98, batch_size=15, epochs=63, optimizer=rmsprop, look_back=4, lr=0.00010 -> RMSE=116.65\n"
          ]
        },
        {
          "output_type": "stream",
          "name": "stderr",
          "text": [
            "/usr/local/lib/python3.12/dist-packages/skopt/optimizer/optimizer.py:517: UserWarning: The objective has been evaluated at point [np.int64(4), np.int64(1), np.int64(20), np.str_('rmsprop'), np.int64(1), 0.003] before, using random point [np.int64(15), np.int64(12), np.int64(25), 'rmsprop', np.int64(3), 0.001790699552071994]\n",
            "  warnings.warn(\n",
            "/usr/local/lib/python3.12/dist-packages/keras/src/layers/rnn/rnn.py:199: UserWarning: Do not pass an `input_shape`/`input_dim` argument to a layer. When using Sequential models, prefer using an `Input(shape)` object as the first layer in the model instead.\n",
            "  super().__init__(**kwargs)\n"
          ]
        },
        {
          "output_type": "stream",
          "name": "stdout",
          "text": [
            "Params: units=15, batch_size=12, epochs=25, optimizer=rmsprop, look_back=3, lr=0.00179 -> RMSE=72.14\n"
          ]
        },
        {
          "output_type": "stream",
          "name": "stderr",
          "text": [
            "/usr/local/lib/python3.12/dist-packages/keras/src/layers/rnn/rnn.py:199: UserWarning: Do not pass an `input_shape`/`input_dim` argument to a layer. When using Sequential models, prefer using an `Input(shape)` object as the first layer in the model instead.\n",
            "  super().__init__(**kwargs)\n"
          ]
        },
        {
          "output_type": "stream",
          "name": "stdout",
          "text": [
            "Params: units=128, batch_size=1, epochs=20, optimizer=rmsprop, look_back=5, lr=0.00300 -> RMSE=55.91\n"
          ]
        },
        {
          "output_type": "stream",
          "name": "stderr",
          "text": [
            "/usr/local/lib/python3.12/dist-packages/keras/src/layers/rnn/rnn.py:199: UserWarning: Do not pass an `input_shape`/`input_dim` argument to a layer. When using Sequential models, prefer using an `Input(shape)` object as the first layer in the model instead.\n",
            "  super().__init__(**kwargs)\n"
          ]
        },
        {
          "output_type": "stream",
          "name": "stdout",
          "text": [
            "Params: units=128, batch_size=1, epochs=100, optimizer=rmsprop, look_back=1, lr=0.00300 -> RMSE=55.94\n"
          ]
        }
      ]
    },
    {
      "cell_type": "markdown",
      "source": [
        "Extracting best hyperparameters obtained and casting them back to python int"
      ],
      "metadata": {
        "id": "buiU0gS4EXFm"
      }
    },
    {
      "cell_type": "code",
      "source": [
        "best_units, best_batch_size, best_epochs, best_optimizer, best_look_back, best_lr = result.x\n",
        "best_units, best_batch_size, best_epochs, best_look_back = map(int, [best_units, best_batch_size, best_epochs, best_look_back])\n",
        "best_lr = float(best_lr)\n",
        "\n",
        "print(\"\\nBest Hyperparameters found:\")\n",
        "print(f\"Units: {best_units}\")\n",
        "print(f\"Batch Size: {best_batch_size}\")\n",
        "print(f\"Epochs: {best_epochs}\")\n",
        "print(f\"Optimizer: {best_optimizer}\")\n",
        "print(f\"Look Back: {best_look_back}\")\n",
        "print(f\"Learning Rate: {best_lr:.5f}\")"
      ],
      "metadata": {
        "colab": {
          "base_uri": "https://localhost:8080/"
        },
        "id": "1-1jjqeBBdz4",
        "outputId": "851400a9-2e99-4317-8a23-5238966d3ff4"
      },
      "execution_count": 50,
      "outputs": [
        {
          "output_type": "stream",
          "name": "stdout",
          "text": [
            "\n",
            "Best Hyperparameters found:\n",
            "Units: 111\n",
            "Batch Size: 27\n",
            "Epochs: 86\n",
            "Optimizer: adam\n",
            "Look Back: 1\n",
            "Learning Rate: 0.00098\n"
          ]
        }
      ]
    },
    {
      "cell_type": "markdown",
      "source": [
        "Building the LSTM model with selected hyperparameters"
      ],
      "metadata": {
        "id": "KtKGu-E5FSdD"
      }
    },
    {
      "cell_type": "code",
      "source": [
        "best_model = build_lstm_model(units=best_units,\n",
        "                              look_back=best_look_back,\n",
        "                              optimizer=best_optimizer,\n",
        "                              learning_rate=best_lr,\n",
        "                              loss='mse')"
      ],
      "metadata": {
        "colab": {
          "base_uri": "https://localhost:8080/"
        },
        "id": "E2Ljypq5E6Wz",
        "outputId": "702c2878-213b-4aba-c572-e9222e540dd8"
      },
      "execution_count": 55,
      "outputs": [
        {
          "output_type": "stream",
          "name": "stderr",
          "text": [
            "/usr/local/lib/python3.12/dist-packages/keras/src/layers/rnn/rnn.py:199: UserWarning: Do not pass an `input_shape`/`input_dim` argument to a layer. When using Sequential models, prefer using an `Input(shape)` object as the first layer in the model instead.\n",
            "  super().__init__(**kwargs)\n"
          ]
        }
      ]
    },
    {
      "cell_type": "markdown",
      "source": [
        "Training the LSTM model"
      ],
      "metadata": {
        "id": "zLQBpnkIFcml"
      }
    },
    {
      "cell_type": "code",
      "source": [
        "trainX, trainY = create_dataset(train, best_look_back)\n",
        "testX, testY   = create_dataset(test, best_look_back)\n",
        "\n",
        "trainX = np.reshape(trainX, (trainX.shape[0], 1, trainX.shape[1]))\n",
        "testX  = np.reshape(testX,  (testX.shape[0], 1, testX.shape[1]))\n",
        "\n",
        "\n",
        "early_stop = EarlyStopping(monitor='val_loss', patience=5)\n",
        "best_model.fit(trainX, trainY,\n",
        "               epochs=best_epochs,\n",
        "               batch_size=best_batch_size,\n",
        "               validation_data=(testX, testY),\n",
        "               verbose=2,\n",
        "               callbacks=[early_stop])"
      ],
      "metadata": {
        "colab": {
          "base_uri": "https://localhost:8080/"
        },
        "id": "1RspBYdDEWC3",
        "outputId": "ae04563d-152b-4794-c83a-09ad6aa0d3b4"
      },
      "execution_count": 56,
      "outputs": [
        {
          "output_type": "stream",
          "name": "stdout",
          "text": [
            "Epoch 1/86\n",
            "4/4 - 1s - 351ms/step - loss: 0.0609 - val_loss: 0.3502\n",
            "Epoch 2/86\n",
            "4/4 - 0s - 26ms/step - loss: 0.0528 - val_loss: 0.3205\n",
            "Epoch 3/86\n",
            "4/4 - 0s - 17ms/step - loss: 0.0454 - val_loss: 0.2923\n",
            "Epoch 4/86\n",
            "4/4 - 0s - 18ms/step - loss: 0.0389 - val_loss: 0.2657\n",
            "Epoch 5/86\n",
            "4/4 - 0s - 35ms/step - loss: 0.0331 - val_loss: 0.2406\n",
            "Epoch 6/86\n",
            "4/4 - 0s - 20ms/step - loss: 0.0281 - val_loss: 0.2170\n",
            "Epoch 7/86\n",
            "4/4 - 0s - 34ms/step - loss: 0.0238 - val_loss: 0.1951\n",
            "Epoch 8/86\n",
            "4/4 - 0s - 22ms/step - loss: 0.0202 - val_loss: 0.1750\n",
            "Epoch 9/86\n",
            "4/4 - 0s - 36ms/step - loss: 0.0175 - val_loss: 0.1569\n",
            "Epoch 10/86\n",
            "4/4 - 0s - 37ms/step - loss: 0.0154 - val_loss: 0.1411\n",
            "Epoch 11/86\n",
            "4/4 - 0s - 33ms/step - loss: 0.0139 - val_loss: 0.1277\n",
            "Epoch 12/86\n",
            "4/4 - 0s - 45ms/step - loss: 0.0129 - val_loss: 0.1167\n",
            "Epoch 13/86\n",
            "4/4 - 0s - 33ms/step - loss: 0.0123 - val_loss: 0.1081\n",
            "Epoch 14/86\n",
            "4/4 - 0s - 33ms/step - loss: 0.0119 - val_loss: 0.1016\n",
            "Epoch 15/86\n",
            "4/4 - 0s - 38ms/step - loss: 0.0116 - val_loss: 0.0971\n",
            "Epoch 16/86\n",
            "4/4 - 0s - 22ms/step - loss: 0.0114 - val_loss: 0.0939\n",
            "Epoch 17/86\n",
            "4/4 - 0s - 16ms/step - loss: 0.0111 - val_loss: 0.0919\n",
            "Epoch 18/86\n",
            "4/4 - 0s - 17ms/step - loss: 0.0109 - val_loss: 0.0905\n",
            "Epoch 19/86\n",
            "4/4 - 0s - 17ms/step - loss: 0.0107 - val_loss: 0.0895\n",
            "Epoch 20/86\n",
            "4/4 - 0s - 18ms/step - loss: 0.0104 - val_loss: 0.0886\n",
            "Epoch 21/86\n",
            "4/4 - 0s - 35ms/step - loss: 0.0102 - val_loss: 0.0875\n",
            "Epoch 22/86\n",
            "4/4 - 0s - 18ms/step - loss: 0.0100 - val_loss: 0.0862\n",
            "Epoch 23/86\n",
            "4/4 - 0s - 17ms/step - loss: 0.0098 - val_loss: 0.0845\n",
            "Epoch 24/86\n",
            "4/4 - 0s - 18ms/step - loss: 0.0096 - val_loss: 0.0826\n",
            "Epoch 25/86\n",
            "4/4 - 0s - 36ms/step - loss: 0.0093 - val_loss: 0.0805\n",
            "Epoch 26/86\n",
            "4/4 - 0s - 39ms/step - loss: 0.0091 - val_loss: 0.0781\n",
            "Epoch 27/86\n",
            "4/4 - 0s - 19ms/step - loss: 0.0089 - val_loss: 0.0756\n",
            "Epoch 28/86\n",
            "4/4 - 0s - 21ms/step - loss: 0.0086 - val_loss: 0.0730\n",
            "Epoch 29/86\n",
            "4/4 - 0s - 21ms/step - loss: 0.0084 - val_loss: 0.0704\n",
            "Epoch 30/86\n",
            "4/4 - 0s - 19ms/step - loss: 0.0082 - val_loss: 0.0679\n",
            "Epoch 31/86\n",
            "4/4 - 0s - 20ms/step - loss: 0.0079 - val_loss: 0.0654\n",
            "Epoch 32/86\n",
            "4/4 - 0s - 19ms/step - loss: 0.0077 - val_loss: 0.0630\n",
            "Epoch 33/86\n",
            "4/4 - 0s - 35ms/step - loss: 0.0074 - val_loss: 0.0606\n",
            "Epoch 34/86\n",
            "4/4 - 0s - 19ms/step - loss: 0.0072 - val_loss: 0.0583\n",
            "Epoch 35/86\n",
            "4/4 - 0s - 19ms/step - loss: 0.0070 - val_loss: 0.0561\n",
            "Epoch 36/86\n",
            "4/4 - 0s - 18ms/step - loss: 0.0068 - val_loss: 0.0538\n",
            "Epoch 37/86\n",
            "4/4 - 0s - 17ms/step - loss: 0.0065 - val_loss: 0.0517\n",
            "Epoch 38/86\n",
            "4/4 - 0s - 37ms/step - loss: 0.0063 - val_loss: 0.0496\n",
            "Epoch 39/86\n",
            "4/4 - 0s - 35ms/step - loss: 0.0061 - val_loss: 0.0474\n",
            "Epoch 40/86\n",
            "4/4 - 0s - 35ms/step - loss: 0.0059 - val_loss: 0.0454\n",
            "Epoch 41/86\n",
            "4/4 - 0s - 20ms/step - loss: 0.0057 - val_loss: 0.0433\n",
            "Epoch 42/86\n",
            "4/4 - 0s - 33ms/step - loss: 0.0055 - val_loss: 0.0413\n",
            "Epoch 43/86\n",
            "4/4 - 0s - 18ms/step - loss: 0.0053 - val_loss: 0.0393\n",
            "Epoch 44/86\n",
            "4/4 - 0s - 35ms/step - loss: 0.0051 - val_loss: 0.0374\n",
            "Epoch 45/86\n",
            "4/4 - 0s - 35ms/step - loss: 0.0049 - val_loss: 0.0355\n",
            "Epoch 46/86\n",
            "4/4 - 0s - 35ms/step - loss: 0.0047 - val_loss: 0.0337\n",
            "Epoch 47/86\n",
            "4/4 - 0s - 36ms/step - loss: 0.0045 - val_loss: 0.0320\n",
            "Epoch 48/86\n",
            "4/4 - 0s - 20ms/step - loss: 0.0043 - val_loss: 0.0303\n",
            "Epoch 49/86\n",
            "4/4 - 0s - 19ms/step - loss: 0.0042 - val_loss: 0.0287\n",
            "Epoch 50/86\n",
            "4/4 - 0s - 17ms/step - loss: 0.0040 - val_loss: 0.0271\n",
            "Epoch 51/86\n",
            "4/4 - 0s - 17ms/step - loss: 0.0038 - val_loss: 0.0256\n",
            "Epoch 52/86\n",
            "4/4 - 0s - 17ms/step - loss: 0.0037 - val_loss: 0.0242\n",
            "Epoch 53/86\n",
            "4/4 - 0s - 17ms/step - loss: 0.0035 - val_loss: 0.0229\n",
            "Epoch 54/86\n",
            "4/4 - 0s - 19ms/step - loss: 0.0034 - val_loss: 0.0216\n",
            "Epoch 55/86\n",
            "4/4 - 0s - 37ms/step - loss: 0.0033 - val_loss: 0.0204\n",
            "Epoch 56/86\n",
            "4/4 - 0s - 37ms/step - loss: 0.0032 - val_loss: 0.0193\n",
            "Epoch 57/86\n",
            "4/4 - 0s - 21ms/step - loss: 0.0030 - val_loss: 0.0182\n",
            "Epoch 58/86\n",
            "4/4 - 0s - 20ms/step - loss: 0.0029 - val_loss: 0.0172\n",
            "Epoch 59/86\n",
            "4/4 - 0s - 23ms/step - loss: 0.0028 - val_loss: 0.0163\n",
            "Epoch 60/86\n",
            "4/4 - 0s - 20ms/step - loss: 0.0027 - val_loss: 0.0155\n",
            "Epoch 61/86\n",
            "4/4 - 0s - 19ms/step - loss: 0.0027 - val_loss: 0.0147\n",
            "Epoch 62/86\n",
            "4/4 - 0s - 21ms/step - loss: 0.0026 - val_loss: 0.0140\n",
            "Epoch 63/86\n",
            "4/4 - 0s - 36ms/step - loss: 0.0025 - val_loss: 0.0134\n",
            "Epoch 64/86\n",
            "4/4 - 0s - 35ms/step - loss: 0.0024 - val_loss: 0.0128\n",
            "Epoch 65/86\n",
            "4/4 - 0s - 19ms/step - loss: 0.0024 - val_loss: 0.0123\n",
            "Epoch 66/86\n",
            "4/4 - 0s - 24ms/step - loss: 0.0023 - val_loss: 0.0119\n",
            "Epoch 67/86\n",
            "4/4 - 0s - 33ms/step - loss: 0.0023 - val_loss: 0.0115\n",
            "Epoch 68/86\n",
            "4/4 - 0s - 21ms/step - loss: 0.0022 - val_loss: 0.0111\n",
            "Epoch 69/86\n",
            "4/4 - 0s - 20ms/step - loss: 0.0022 - val_loss: 0.0108\n",
            "Epoch 70/86\n",
            "4/4 - 0s - 20ms/step - loss: 0.0022 - val_loss: 0.0105\n",
            "Epoch 71/86\n",
            "4/4 - 0s - 18ms/step - loss: 0.0021 - val_loss: 0.0103\n",
            "Epoch 72/86\n",
            "4/4 - 0s - 37ms/step - loss: 0.0021 - val_loss: 0.0101\n",
            "Epoch 73/86\n",
            "4/4 - 0s - 36ms/step - loss: 0.0021 - val_loss: 0.0100\n",
            "Epoch 74/86\n",
            "4/4 - 0s - 36ms/step - loss: 0.0021 - val_loss: 0.0098\n",
            "Epoch 75/86\n",
            "4/4 - 0s - 20ms/step - loss: 0.0020 - val_loss: 0.0097\n",
            "Epoch 76/86\n",
            "4/4 - 0s - 35ms/step - loss: 0.0020 - val_loss: 0.0096\n",
            "Epoch 77/86\n",
            "4/4 - 0s - 36ms/step - loss: 0.0020 - val_loss: 0.0095\n",
            "Epoch 78/86\n",
            "4/4 - 0s - 17ms/step - loss: 0.0020 - val_loss: 0.0095\n",
            "Epoch 79/86\n",
            "4/4 - 0s - 36ms/step - loss: 0.0020 - val_loss: 0.0094\n",
            "Epoch 80/86\n",
            "4/4 - 0s - 37ms/step - loss: 0.0020 - val_loss: 0.0094\n",
            "Epoch 81/86\n",
            "4/4 - 0s - 20ms/step - loss: 0.0020 - val_loss: 0.0094\n",
            "Epoch 82/86\n",
            "4/4 - 0s - 22ms/step - loss: 0.0020 - val_loss: 0.0094\n",
            "Epoch 83/86\n",
            "4/4 - 0s - 20ms/step - loss: 0.0020 - val_loss: 0.0094\n",
            "Epoch 84/86\n",
            "4/4 - 0s - 35ms/step - loss: 0.0020 - val_loss: 0.0093\n",
            "Epoch 85/86\n",
            "4/4 - 0s - 21ms/step - loss: 0.0020 - val_loss: 0.0093\n",
            "Epoch 86/86\n",
            "4/4 - 0s - 36ms/step - loss: 0.0020 - val_loss: 0.0093\n"
          ]
        },
        {
          "output_type": "execute_result",
          "data": {
            "text/plain": [
              "<keras.src.callbacks.history.History at 0x7d6a24282d80>"
            ]
          },
          "metadata": {},
          "execution_count": 56
        }
      ]
    },
    {
      "cell_type": "markdown",
      "source": [
        "Evaluation and Visualization"
      ],
      "metadata": {
        "id": "JX_JuabqFiaC"
      }
    },
    {
      "cell_type": "code",
      "source": [
        "trainPredict = best_model.predict(trainX)\n",
        "testPredict  = best_model.predict(testX)\n",
        "\n",
        "trainPredict = scaler.inverse_transform(trainPredict)\n",
        "trainY_rescaled = scaler.inverse_transform([trainY])\n",
        "testPredict = scaler.inverse_transform(testPredict)\n",
        "testY_rescaled = scaler.inverse_transform([testY])\n",
        "\n",
        "trainPredictPlot = np.empty_like(dataset)\n",
        "trainPredictPlot[:, :] = np.nan\n",
        "trainPredictPlot[best_look_back:len(trainPredict)+best_look_back, :] = trainPredict\n",
        "\n",
        "testPredictPlot = np.empty_like(dataset)\n",
        "testPredictPlot[:, :] = np.nan\n",
        "testPredictPlot[len(trainPredict)+(best_look_back*2):len(trainPredict)+(best_look_back*2)+len(testPredict), :] = testPredict\n",
        "\n",
        "plt.figure(figsize=(10,6))\n",
        "plt.plot(scaler.inverse_transform(dataset), label=\"Original (blue)\")\n",
        "plt.plot(trainPredictPlot, label=\"Train Predict (orange)\")\n",
        "plt.plot(testPredictPlot, label=\"Test Predict (green)\")\n",
        "plt.legend()\n",
        "plt.show()"
      ],
      "metadata": {
        "colab": {
          "base_uri": "https://localhost:8080/",
          "height": 558
        },
        "id": "eUQUb9AuElGr",
        "outputId": "03d5be47-3ec2-41bc-dae2-9a2d75c44966"
      },
      "execution_count": 57,
      "outputs": [
        {
          "output_type": "stream",
          "name": "stdout",
          "text": [
            "\u001b[1m3/3\u001b[0m \u001b[32m━━━━━━━━━━━━━━━━━━━━\u001b[0m\u001b[37m\u001b[0m \u001b[1m1s\u001b[0m 541ms/step\n",
            "\u001b[1m2/2\u001b[0m \u001b[32m━━━━━━━━━━━━━━━━━━━━\u001b[0m\u001b[37m\u001b[0m \u001b[1m0s\u001b[0m 16ms/step\n"
          ]
        },
        {
          "output_type": "display_data",
          "data": {
            "text/plain": [
              "<Figure size 1000x600 with 1 Axes>"
            ],
            "image/png": "[encoded data removed]"
          },
          "metadata": {}
        }
      ]
    }
  ]
}