{
  "nbformat": 4,
  "nbformat_minor": 0,
  "metadata": {
    "colab": {
      "provenance": []
    },
    "kernelspec": {
      "name": "python3",
      "display_name": "Python 3"
    },
    "language_info": {
      "name": "python"
    }
  },
  "cells": [
    {
      "cell_type": "markdown",
      "source": [
        "Importing the Dependencies"
      ],
      "metadata": {
        "id": "do3nYcaByHbo"
      }
    },
    {
      "cell_type": "code",
      "execution_count": 1,
      "metadata": {
        "id": "MY0gV-l6xZBQ"
      },
      "outputs": [],
      "source": [
        "import pandas as pd\n",
        "import numpy as np\n",
        "import matplotlib.pyplot as plt\n",
        "import tensorflow as tf\n",
        "import random\n",
        "import csv\n",
        "from sklearn.preprocessing import MinMaxScaler\n",
        "from sklearn.model_selection import train_test_split\n",
        "from sklearn.metrics import mean_squared_error\n",
        "from tensorflow.keras.models import Sequential\n",
        "from tensorflow.keras.layers import Dense, LSTM\n",
        "from tensorflow.keras.optimizers import Adam, RMSprop, SGD\n",
        "from tensorflow.keras.callbacks import EarlyStopping"
      ]
    },
    {
      "cell_type": "markdown",
      "source": [
        "Data Collection and Pre-processing"
      ],
      "metadata": {
        "id": "-FePZzVK4IA6"
      }
    },
    {
      "cell_type": "code",
      "source": [
        "# importing the dataset to Pandas Dataframe\n",
        "dataset = pd.read_csv(\"/content/airline-passengers.csv\",usecols=[1],engine='python')\n",
        "dataset.head()"
      ],
      "metadata": {
        "colab": {
          "base_uri": "https://localhost:8080/",
          "height": 206
        },
        "id": "4PWVDPpayK9y",
        "outputId": "45b04385-0d9e-4f9f-93cb-4d600bbd53aa"
      },
      "execution_count": 41,
      "outputs": [
        {
          "output_type": "execute_result",
          "data": {
            "text/plain": [
              "   Passengers\n",
              "0         112\n",
              "1         118\n",
              "2         132\n",
              "3         129\n",
              "4         121"
            ],
            "text/html": [
              "\n",
              "  <div id=\"df-fbd81d74-fa31-4101-b3f1-615ab8c30488\" class=\"colab-df-container\">\n",
              "    <div>\n",
              "<style scoped>\n",
              "    .dataframe tbody tr th:only-of-type {\n",
              "        vertical-align: middle;\n",
              "    }\n",
              "\n",
              "    .dataframe tbody tr th {\n",
              "        vertical-align: top;\n",
              "    }\n",
              "\n",
              "    .dataframe thead th {\n",
              "        text-align: right;\n",
              "    }\n",
              "</style>\n",
              "<table border=\"1\" class=\"dataframe\">\n",
              "  <thead>\n",
              "    <tr style=\"text-align: right;\">\n",
              "      <th></th>\n",
              "      <th>Passengers</th>\n",
              "    </tr>\n",
              "  </thead>\n",
              "  <tbody>\n",
              "    <tr>\n",
              "      <th>0</th>\n",
              "      <td>112</td>\n",
              "    </tr>\n",
              "    <tr>\n",
              "      <th>1</th>\n",
              "      <td>118</td>\n",
              "    </tr>\n",
              "    <tr>\n",
              "      <th>2</th>\n",
              "      <td>132</td>\n",
              "    </tr>\n",
              "    <tr>\n",
              "      <th>3</th>\n",
              "      <td>129</td>\n",
              "    </tr>\n",
              "    <tr>\n",
              "      <th>4</th>\n",
              "      <td>121</td>\n",
              "    </tr>\n",
              "  </tbody>\n",
              "</table>\n",
              "</div>\n",
              "    <div class=\"colab-df-buttons\">\n",
              "\n",
              "  <div class=\"colab-df-container\">\n",
              "    <button class=\"colab-df-convert\" onclick=\"convertToInteractive('df-fbd81d74-fa31-4101-b3f1-615ab8c30488')\"\n",
              "            title=\"Convert this dataframe to an interactive table.\"\n",
              "            style=\"display:none;\">\n",
              "\n",
              "  <svg xmlns=\"http://www.w3.org/2000/svg\" height=\"24px\" viewBox=\"0 -960 960 960\">\n",
              "    <path d=\"M120-120v-720h720v720H120Zm60-500h600v-160H180v160Zm220 220h160v-160H400v160Zm0 220h160v-160H400v160ZM180-400h160v-160H180v160Zm440 0h160v-160H620v160ZM180-180h160v-160H180v160Zm440 0h160v-160H620v160Z\"/>\n",
              "  </svg>\n",
              "    </button>\n",
              "\n",
              "  <style>\n",
              "    .colab-df-container {\n",
              "      display:flex;\n",
              "      gap: 12px;\n",
              "    }\n",
              "\n",
              "    .colab-df-convert {\n",
              "      background-color: #E8F0FE;\n",
              "      border: none;\n",
              "      border-radius: 50%;\n",
              "      cursor: pointer;\n",
              "      display: none;\n",
              "      fill: #1967D2;\n",
              "      height: 32px;\n",
              "      padding: 0 0 0 0;\n",
              "      width: 32px;\n",
              "    }\n",
              "\n",
              "    .colab-df-convert:hover {\n",
              "      background-color: #E2EBFA;\n",
              "      box-shadow: 0px 1px 2px rgba(60, 64, 67, 0.3), 0px 1px 3px 1px rgba(60, 64, 67, 0.15);\n",
              "      fill: #174EA6;\n",
              "    }\n",
              "\n",
              "    .colab-df-buttons div {\n",
              "      margin-bottom: 4px;\n",
              "    }\n",
              "\n",
              "    [theme=dark] .colab-df-convert {\n",
              "      background-color: #3B4455;\n",
              "      fill: #D2E3FC;\n",
              "    }\n",
              "\n",
              "    [theme=dark] .colab-df-convert:hover {\n",
              "      background-color: #434B5C;\n",
              "      box-shadow: 0px 1px 3px 1px rgba(0, 0, 0, 0.15);\n",
              "      filter: drop-shadow(0px 1px 2px rgba(0, 0, 0, 0.3));\n",
              "      fill: #FFFFFF;\n",
              "    }\n",
              "  </style>\n",
              "\n",
              "    <script>\n",
              "      const buttonEl =\n",
              "        document.querySelector('#df-fbd81d74-fa31-4101-b3f1-615ab8c30488 button.colab-df-convert');\n",
              "      buttonEl.style.display =\n",
              "        google.colab.kernel.accessAllowed ? 'block' : 'none';\n",
              "\n",
              "      async function convertToInteractive(key) {\n",
              "        const element = document.querySelector('#df-fbd81d74-fa31-4101-b3f1-615ab8c30488');\n",
              "        const dataTable =\n",
              "          await google.colab.kernel.invokeFunction('convertToInteractive',\n",
              "                                                    [key], {});\n",
              "        if (!dataTable) return;\n",
              "\n",
              "        const docLinkHtml = 'Like what you see? Visit the ' +\n",
              "          '<a target=\"_blank\" href=https://colab.research.google.com/notebooks/data_table.ipynb>data table notebook</a>'\n",
              "          + ' to learn more about interactive tables.';\n",
              "        element.innerHTML = '';\n",
              "        dataTable['output_type'] = 'display_data';\n",
              "        await google.colab.output.renderOutput(dataTable, element);\n",
              "        const docLink = document.createElement('div');\n",
              "        docLink.innerHTML = docLinkHtml;\n",
              "        element.appendChild(docLink);\n",
              "      }\n",
              "    </script>\n",
              "  </div>\n",
              "\n",
              "\n",
              "    <div id=\"df-d69f6ce0-cf91-45d8-be76-0c6ba749e2b0\">\n",
              "      <button class=\"colab-df-quickchart\" onclick=\"quickchart('df-d69f6ce0-cf91-45d8-be76-0c6ba749e2b0')\"\n",
              "                title=\"Suggest charts\"\n",
              "                style=\"display:none;\">\n",
              "\n",
              "<svg xmlns=\"http://www.w3.org/2000/svg\" height=\"24px\"viewBox=\"0 0 24 24\"\n",
              "     width=\"24px\">\n",
              "    <g>\n",
              "        <path d=\"M19 3H5c-1.1 0-2 .9-2 2v14c0 1.1.9 2 2 2h14c1.1 0 2-.9 2-2V5c0-1.1-.9-2-2-2zM9 17H7v-7h2v7zm4 0h-2V7h2v10zm4 0h-2v-4h2v4z\"/>\n",
              "    </g>\n",
              "</svg>\n",
              "      </button>\n",
              "\n",
              "<style>\n",
              "  .colab-df-quickchart {\n",
              "      --bg-color: #E8F0FE;\n",
              "      --fill-color: #1967D2;\n",
              "      --hover-bg-color: #E2EBFA;\n",
              "      --hover-fill-color: #174EA6;\n",
              "      --disabled-fill-color: #AAA;\n",
              "      --disabled-bg-color: #DDD;\n",
              "  }\n",
              "\n",
              "  [theme=dark] .colab-df-quickchart {\n",
              "      --bg-color: #3B4455;\n",
              "      --fill-color: #D2E3FC;\n",
              "      --hover-bg-color: #434B5C;\n",
              "      --hover-fill-color: #FFFFFF;\n",
              "      --disabled-bg-color: #3B4455;\n",
              "      --disabled-fill-color: #666;\n",
              "  }\n",
              "\n",
              "  .colab-df-quickchart {\n",
              "    background-color: var(--bg-color);\n",
              "    border: none;\n",
              "    border-radius: 50%;\n",
              "    cursor: pointer;\n",
              "    display: none;\n",
              "    fill: var(--fill-color);\n",
              "    height: 32px;\n",
              "    padding: 0;\n",
              "    width: 32px;\n",
              "  }\n",
              "\n",
              "  .colab-df-quickchart:hover {\n",
              "    background-color: var(--hover-bg-color);\n",
              "    box-shadow: 0 1px 2px rgba(60, 64, 67, 0.3), 0 1px 3px 1px rgba(60, 64, 67, 0.15);\n",
              "    fill: var(--button-hover-fill-color);\n",
              "  }\n",
              "\n",
              "  .colab-df-quickchart-complete:disabled,\n",
              "  .colab-df-quickchart-complete:disabled:hover {\n",
              "    background-color: var(--disabled-bg-color);\n",
              "    fill: var(--disabled-fill-color);\n",
              "    box-shadow: none;\n",
              "  }\n",
              "\n",
              "  .colab-df-spinner {\n",
              "    border: 2px solid var(--fill-color);\n",
              "    border-color: transparent;\n",
              "    border-bottom-color: var(--fill-color);\n",
              "    animation:\n",
              "      spin 1s steps(1) infinite;\n",
              "  }\n",
              "\n",
              "  @keyframes spin {\n",
              "    0% {\n",
              "      border-color: transparent;\n",
              "      border-bottom-color: var(--fill-color);\n",
              "      border-left-color: var(--fill-color);\n",
              "    }\n",
              "    20% {\n",
              "      border-color: transparent;\n",
              "      border-left-color: var(--fill-color);\n",
              "      border-top-color: var(--fill-color);\n",
              "    }\n",
              "    30% {\n",
              "      border-color: transparent;\n",
              "      border-left-color: var(--fill-color);\n",
              "      border-top-color: var(--fill-color);\n",
              "      border-right-color: var(--fill-color);\n",
              "    }\n",
              "    40% {\n",
              "      border-color: transparent;\n",
              "      border-right-color: var(--fill-color);\n",
              "      border-top-color: var(--fill-color);\n",
              "    }\n",
              "    60% {\n",
              "      border-color: transparent;\n",
              "      border-right-color: var(--fill-color);\n",
              "    }\n",
              "    80% {\n",
              "      border-color: transparent;\n",
              "      border-right-color: var(--fill-color);\n",
              "      border-bottom-color: var(--fill-color);\n",
              "    }\n",
              "    90% {\n",
              "      border-color: transparent;\n",
              "      border-bottom-color: var(--fill-color);\n",
              "    }\n",
              "  }\n",
              "</style>\n",
              "\n",
              "      <script>\n",
              "        async function quickchart(key) {\n",
              "          const quickchartButtonEl =\n",
              "            document.querySelector('#' + key + ' button');\n",
              "          quickchartButtonEl.disabled = true;  // To prevent multiple clicks.\n",
              "          quickchartButtonEl.classList.add('colab-df-spinner');\n",
              "          try {\n",
              "            const charts = await google.colab.kernel.invokeFunction(\n",
              "                'suggestCharts', [key], {});\n",
              "          } catch (error) {\n",
              "            console.error('Error during call to suggestCharts:', error);\n",
              "          }\n",
              "          quickchartButtonEl.classList.remove('colab-df-spinner');\n",
              "          quickchartButtonEl.classList.add('colab-df-quickchart-complete');\n",
              "        }\n",
              "        (() => {\n",
              "          let quickchartButtonEl =\n",
              "            document.querySelector('#df-d69f6ce0-cf91-45d8-be76-0c6ba749e2b0 button');\n",
              "          quickchartButtonEl.style.display =\n",
              "            google.colab.kernel.accessAllowed ? 'block' : 'none';\n",
              "        })();\n",
              "      </script>\n",
              "    </div>\n",
              "\n",
              "    </div>\n",
              "  </div>\n"
            ],
            "application/vnd.google.colaboratory.intrinsic+json": {
              "type": "dataframe",
              "variable_name": "dataset",
              "summary": "{\n  \"name\": \"dataset\",\n  \"rows\": 144,\n  \"fields\": [\n    {\n      \"column\": \"Passengers\",\n      \"properties\": {\n        \"dtype\": \"number\",\n        \"std\": 119,\n        \"min\": 104,\n        \"max\": 622,\n        \"num_unique_values\": 118,\n        \"samples\": [\n          293,\n          340,\n          121\n        ],\n        \"semantic_type\": \"\",\n        \"description\": \"\"\n      }\n    }\n  ]\n}"
            }
          },
          "metadata": {},
          "execution_count": 41
        }
      ]
    },
    {
      "cell_type": "code",
      "source": [
        "# no. of rows and columns\n",
        "dataset.shape"
      ],
      "metadata": {
        "colab": {
          "base_uri": "https://localhost:8080/"
        },
        "id": "FqeCeCTx4MYJ",
        "outputId": "c84e3727-97a3-4b99-dc41-f40a97561c22"
      },
      "execution_count": 38,
      "outputs": [
        {
          "output_type": "execute_result",
          "data": {
            "text/plain": [
              "(144, 1)"
            ]
          },
          "metadata": {},
          "execution_count": 38
        }
      ]
    },
    {
      "cell_type": "code",
      "source": [
        "# checking empty values in dataset\n",
        "dataset.isnull().sum()"
      ],
      "metadata": {
        "colab": {
          "base_uri": "https://localhost:8080/",
          "height": 115
        },
        "id": "34FOGa0A4Qtn",
        "outputId": "178864ad-3707-4761-92bd-e2f655df84f1"
      },
      "execution_count": 42,
      "outputs": [
        {
          "output_type": "execute_result",
          "data": {
            "text/plain": [
              "Passengers    0\n",
              "dtype: int64"
            ],
            "text/html": [
              "<div>\n",
              "<style scoped>\n",
              "    .dataframe tbody tr th:only-of-type {\n",
              "        vertical-align: middle;\n",
              "    }\n",
              "\n",
              "    .dataframe tbody tr th {\n",
              "        vertical-align: top;\n",
              "    }\n",
              "\n",
              "    .dataframe thead th {\n",
              "        text-align: right;\n",
              "    }\n",
              "</style>\n",
              "<table border=\"1\" class=\"dataframe\">\n",
              "  <thead>\n",
              "    <tr style=\"text-align: right;\">\n",
              "      <th></th>\n",
              "      <th>0</th>\n",
              "    </tr>\n",
              "  </thead>\n",
              "  <tbody>\n",
              "    <tr>\n",
              "      <th>Passengers</th>\n",
              "      <td>0</td>\n",
              "    </tr>\n",
              "  </tbody>\n",
              "</table>\n",
              "</div><br><label><b>dtype:</b> int64</label>"
            ]
          },
          "metadata": {},
          "execution_count": 42
        }
      ]
    },
    {
      "cell_type": "code",
      "source": [
        "# All random operations in TensorFlow will now produce the same output every time you run the code\n",
        "tf.random.set_seed(1)"
      ],
      "metadata": {
        "id": "8d7Ih5MeyfN7"
      },
      "execution_count": 14,
      "outputs": []
    },
    {
      "cell_type": "code",
      "source": [
        "# converting dataset to numpy array\n",
        "dataset = dataset.values.astype('float32')\n",
        "print(type(dataset))"
      ],
      "metadata": {
        "colab": {
          "base_uri": "https://localhost:8080/"
        },
        "id": "-s2WMDRBym85",
        "outputId": "a7a8547d-964b-4d33-cfbf-2b0ce05e931b"
      },
      "execution_count": 20,
      "outputs": [
        {
          "output_type": "stream",
          "name": "stdout",
          "text": [
            "<class 'numpy.ndarray'>\n"
          ]
        }
      ]
    },
    {
      "cell_type": "code",
      "source": [
        "dataset"
      ],
      "metadata": {
        "colab": {
          "base_uri": "https://localhost:8080/"
        },
        "id": "UUXPqljny_La",
        "outputId": "7e6e50d4-7839-4db1-bc3c-e2a79f6d7b2e"
      },
      "execution_count": 21,
      "outputs": [
        {
          "output_type": "execute_result",
          "data": {
            "text/plain": [
              "array([[112.],\n",
              "       [118.],\n",
              "       [132.],\n",
              "       [129.],\n",
              "       [121.],\n",
              "       [135.],\n",
              "       [148.],\n",
              "       [148.],\n",
              "       [136.],\n",
              "       [119.],\n",
              "       [104.],\n",
              "       [118.],\n",
              "       [115.],\n",
              "       [126.],\n",
              "       [141.],\n",
              "       [135.],\n",
              "       [125.],\n",
              "       [149.],\n",
              "       [170.],\n",
              "       [170.],\n",
              "       [158.],\n",
              "       [133.],\n",
              "       [114.],\n",
              "       [140.],\n",
              "       [145.],\n",
              "       [150.],\n",
              "       [178.],\n",
              "       [163.],\n",
              "       [172.],\n",
              "       [178.],\n",
              "       [199.],\n",
              "       [199.],\n",
              "       [184.],\n",
              "       [162.],\n",
              "       [146.],\n",
              "       [166.],\n",
              "       [171.],\n",
              "       [180.],\n",
              "       [193.],\n",
              "       [181.],\n",
              "       [183.],\n",
              "       [218.],\n",
              "       [230.],\n",
              "       [242.],\n",
              "       [209.],\n",
              "       [191.],\n",
              "       [172.],\n",
              "       [194.],\n",
              "       [196.],\n",
              "       [196.],\n",
              "       [236.],\n",
              "       [235.],\n",
              "       [229.],\n",
              "       [243.],\n",
              "       [264.],\n",
              "       [272.],\n",
              "       [237.],\n",
              "       [211.],\n",
              "       [180.],\n",
              "       [201.],\n",
              "       [204.],\n",
              "       [188.],\n",
              "       [235.],\n",
              "       [227.],\n",
              "       [234.],\n",
              "       [264.],\n",
              "       [302.],\n",
              "       [293.],\n",
              "       [259.],\n",
              "       [229.],\n",
              "       [203.],\n",
              "       [229.],\n",
              "       [242.],\n",
              "       [233.],\n",
              "       [267.],\n",
              "       [269.],\n",
              "       [270.],\n",
              "       [315.],\n",
              "       [364.],\n",
              "       [347.],\n",
              "       [312.],\n",
              "       [274.],\n",
              "       [237.],\n",
              "       [278.],\n",
              "       [284.],\n",
              "       [277.],\n",
              "       [317.],\n",
              "       [313.],\n",
              "       [318.],\n",
              "       [374.],\n",
              "       [413.],\n",
              "       [405.],\n",
              "       [355.],\n",
              "       [306.],\n",
              "       [271.],\n",
              "       [306.],\n",
              "       [315.],\n",
              "       [301.],\n",
              "       [356.],\n",
              "       [348.],\n",
              "       [355.],\n",
              "       [422.],\n",
              "       [465.],\n",
              "       [467.],\n",
              "       [404.],\n",
              "       [347.],\n",
              "       [305.],\n",
              "       [336.],\n",
              "       [340.],\n",
              "       [318.],\n",
              "       [362.],\n",
              "       [348.],\n",
              "       [363.],\n",
              "       [435.],\n",
              "       [491.],\n",
              "       [505.],\n",
              "       [404.],\n",
              "       [359.],\n",
              "       [310.],\n",
              "       [337.],\n",
              "       [360.],\n",
              "       [342.],\n",
              "       [406.],\n",
              "       [396.],\n",
              "       [420.],\n",
              "       [472.],\n",
              "       [548.],\n",
              "       [559.],\n",
              "       [463.],\n",
              "       [407.],\n",
              "       [362.],\n",
              "       [405.],\n",
              "       [417.],\n",
              "       [391.],\n",
              "       [419.],\n",
              "       [461.],\n",
              "       [472.],\n",
              "       [535.],\n",
              "       [622.],\n",
              "       [606.],\n",
              "       [508.],\n",
              "       [461.],\n",
              "       [390.],\n",
              "       [432.]], dtype=float32)"
            ]
          },
          "metadata": {},
          "execution_count": 21
        }
      ]
    },
    {
      "cell_type": "markdown",
      "source": [
        "Data Scaling"
      ],
      "metadata": {
        "id": "PQpaormRAJmP"
      }
    },
    {
      "cell_type": "code",
      "source": [
        "# Scaling the values between 0 and 1\n",
        "scaler = MinMaxScaler(feature_range=(0,1))\n",
        "dataset = scaler.fit_transform(dataset)"
      ],
      "metadata": {
        "id": "iQYJHXzYzX4p"
      },
      "execution_count": 22,
      "outputs": []
    },
    {
      "cell_type": "markdown",
      "source": [
        "Data Splitting"
      ],
      "metadata": {
        "id": "8enlk7jNAICh"
      }
    },
    {
      "cell_type": "code",
      "source": [
        "# Splitting the data into train data and test data\n",
        "train, test = train_test_split(dataset, test_size=0.33, shuffle=False)\n",
        "print(\"Training data: \",train)\n",
        "print(\"Testing data: \",test)"
      ],
      "metadata": {
        "colab": {
          "base_uri": "https://localhost:8080/"
        },
        "id": "0VM_5OPHzcpN",
        "outputId": "920ab017-4bcb-4725-bb7d-828e5f49289e"
      },
      "execution_count": 29,
      "outputs": [
        {
          "output_type": "stream",
          "name": "stdout",
          "text": [
            "Training data:  [[0.01544401]\n",
            " [0.02702703]\n",
            " [0.05405405]\n",
            " [0.04826255]\n",
            " [0.03281853]\n",
            " [0.05984557]\n",
            " [0.08494207]\n",
            " [0.08494207]\n",
            " [0.06177607]\n",
            " [0.02895753]\n",
            " [0.        ]\n",
            " [0.02702703]\n",
            " [0.02123553]\n",
            " [0.04247104]\n",
            " [0.07142857]\n",
            " [0.05984557]\n",
            " [0.04054055]\n",
            " [0.08687258]\n",
            " [0.12741312]\n",
            " [0.12741312]\n",
            " [0.10424709]\n",
            " [0.05598456]\n",
            " [0.01930502]\n",
            " [0.06949806]\n",
            " [0.07915059]\n",
            " [0.08880308]\n",
            " [0.14285713]\n",
            " [0.11389962]\n",
            " [0.13127413]\n",
            " [0.14285713]\n",
            " [0.18339768]\n",
            " [0.18339768]\n",
            " [0.15444016]\n",
            " [0.11196911]\n",
            " [0.08108109]\n",
            " [0.1196911 ]\n",
            " [0.12934363]\n",
            " [0.14671814]\n",
            " [0.17181468]\n",
            " [0.14864865]\n",
            " [0.15250966]\n",
            " [0.22007722]\n",
            " [0.24324325]\n",
            " [0.26640925]\n",
            " [0.2027027 ]\n",
            " [0.16795367]\n",
            " [0.13127413]\n",
            " [0.17374519]\n",
            " [0.17760617]\n",
            " [0.17760617]\n",
            " [0.25482625]\n",
            " [0.25289574]\n",
            " [0.24131274]\n",
            " [0.26833975]\n",
            " [0.3088803 ]\n",
            " [0.32432434]\n",
            " [0.25675675]\n",
            " [0.20656371]\n",
            " [0.14671814]\n",
            " [0.18725869]\n",
            " [0.19305018]\n",
            " [0.16216215]\n",
            " [0.25289574]\n",
            " [0.23745173]\n",
            " [0.25096524]\n",
            " [0.3088803 ]\n",
            " [0.38223937]\n",
            " [0.36486486]\n",
            " [0.2992278 ]\n",
            " [0.24131274]\n",
            " [0.1911197 ]\n",
            " [0.24131274]\n",
            " [0.26640925]\n",
            " [0.24903473]\n",
            " [0.31467178]\n",
            " [0.3185328 ]\n",
            " [0.32046333]\n",
            " [0.4073359 ]\n",
            " [0.5019305 ]\n",
            " [0.46911195]\n",
            " [0.40154442]\n",
            " [0.32818535]\n",
            " [0.25675675]\n",
            " [0.3359073 ]\n",
            " [0.34749034]\n",
            " [0.33397684]\n",
            " [0.41119692]\n",
            " [0.4034749 ]\n",
            " [0.4131274 ]\n",
            " [0.52123547]\n",
            " [0.5965251 ]\n",
            " [0.58108103]\n",
            " [0.484556  ]\n",
            " [0.3899614 ]\n",
            " [0.3223938 ]\n",
            " [0.3899614 ]]\n",
            "Testing data:  [[0.4073359 ]\n",
            " [0.3803089 ]\n",
            " [0.48648646]\n",
            " [0.47104248]\n",
            " [0.484556  ]\n",
            " [0.6138996 ]\n",
            " [0.6969112 ]\n",
            " [0.70077217]\n",
            " [0.57915056]\n",
            " [0.46911195]\n",
            " [0.38803086]\n",
            " [0.44787642]\n",
            " [0.45559844]\n",
            " [0.4131274 ]\n",
            " [0.4980695 ]\n",
            " [0.47104248]\n",
            " [0.49999997]\n",
            " [0.6389961 ]\n",
            " [0.7471043 ]\n",
            " [0.7741313 ]\n",
            " [0.57915056]\n",
            " [0.492278  ]\n",
            " [0.3976834 ]\n",
            " [0.44980696]\n",
            " [0.49420848]\n",
            " [0.45945945]\n",
            " [0.5830116 ]\n",
            " [0.5637065 ]\n",
            " [0.61003864]\n",
            " [0.71042466]\n",
            " [0.8571429 ]\n",
            " [0.8783784 ]\n",
            " [0.69305015]\n",
            " [0.5849421 ]\n",
            " [0.4980695 ]\n",
            " [0.58108103]\n",
            " [0.6042471 ]\n",
            " [0.554054  ]\n",
            " [0.60810804]\n",
            " [0.6891892 ]\n",
            " [0.71042466]\n",
            " [0.8320464 ]\n",
            " [1.        ]\n",
            " [0.96911204]\n",
            " [0.7799227 ]\n",
            " [0.6891892 ]\n",
            " [0.55212355]\n",
            " [0.6332046 ]]\n"
          ]
        }
      ]
    },
    {
      "cell_type": "markdown",
      "source": [
        "Function to create 2 numpy arrays:\n",
        "\n",
        "\n",
        "\n",
        "*   dataX which stores the past look_back no. of values\n",
        "*   dataY which stores the next value\n",
        "\n"
      ],
      "metadata": {
        "id": "BoTgmi9Q54VY"
      }
    },
    {
      "cell_type": "code",
      "source": [
        "def create_dataset(dataset, look_back=1):\n",
        "    dataX, dataY = [], []\n",
        "    for i in range(len(dataset)-look_back-1):\n",
        "        a = dataset[i:(i+look_back),0]\n",
        "        dataX.append(a)\n",
        "        dataY.append(dataset[i+look_back,0])\n",
        "    return np.array(dataX), np.array(dataY)"
      ],
      "metadata": {
        "id": "_7z6A7FzzgNY"
      },
      "execution_count": 24,
      "outputs": []
    },
    {
      "cell_type": "markdown",
      "source": [
        "Building LSTM Model"
      ],
      "metadata": {
        "id": "iPUPHhIx6S-u"
      }
    },
    {
      "cell_type": "code",
      "source": [
        "def build_lstm_model(units=50, look_back=1, optimizer='adam', learning_rate=0.001, loss='mse'):\n",
        "    model = Sequential()\n",
        "    model.add(LSTM(units, input_shape=(1, look_back)))\n",
        "    model.add(Dense(1))\n",
        "\n",
        "    if optimizer=='adam':\n",
        "        opt = Adam(learning_rate=learning_rate)\n",
        "    elif optimizer=='rmsprop':\n",
        "        opt = RMSprop(learning_rate=learning_rate)\n",
        "    elif optimizer=='sgd':\n",
        "        opt = SGD(learning_rate=learning_rate)\n",
        "\n",
        "    model.compile(loss=loss, optimizer=opt)\n",
        "    return model"
      ],
      "metadata": {
        "id": "H4tg4yTUzoKE"
      },
      "execution_count": 25,
      "outputs": []
    },
    {
      "cell_type": "markdown",
      "source": [
        "The evaluate_model function trains an LSTM with given hyperparameters on the training data, predicts on the test data, and returns the model’s RMSE as a measure of performance."
      ],
      "metadata": {
        "id": "EHGppHKa6Y-u"
      }
    },
    {
      "cell_type": "code",
      "source": [
        "def evaluate_model(units, batch_size, epochs, optimizer, look_back, learning_rate):\n",
        "    trainX, trainY = create_dataset(train, look_back)\n",
        "    testX, testY   = create_dataset(test, look_back)\n",
        "\n",
        "    trainX = np.reshape(trainX, (trainX.shape[0], 1, trainX.shape[1]))\n",
        "    testX  = np.reshape(testX,  (testX.shape[0], 1, testX.shape[1]))\n",
        "\n",
        "    model = build_lstm_model(units, look_back, optimizer, learning_rate, loss='mse')\n",
        "    early_stop = EarlyStopping(monitor='val_loss', patience=5)\n",
        "\n",
        "    model.fit(trainX, trainY,\n",
        "              epochs=epochs,\n",
        "              batch_size=batch_size,\n",
        "              validation_data=(testX, testY),\n",
        "              verbose=0,\n",
        "              callbacks=[early_stop])\n",
        "\n",
        "    testPredict = model.predict(testX, verbose=0)\n",
        "    testPredict = scaler.inverse_transform(testPredict)\n",
        "    testY_rescaled = scaler.inverse_transform([testY])\n",
        "    rmse = np.sqrt(mean_squared_error(testY_rescaled[0], testPredict[:,0]))\n",
        "\n",
        "    return rmse"
      ],
      "metadata": {
        "id": "zGBsVFPZ0EWM"
      },
      "execution_count": 26,
      "outputs": []
    },
    {
      "cell_type": "markdown",
      "source": [
        "Random Search"
      ],
      "metadata": {
        "id": "HIzuTLlUAVYA"
      }
    },
    {
      "cell_type": "markdown",
      "source": [
        "Evaluating model metric: RMSE for different random sets of hyperparameters and storing them"
      ],
      "metadata": {
        "id": "lz7FOmYV6-es"
      }
    },
    {
      "cell_type": "code",
      "source": [
        "param_grid = {\n",
        "    'units': [4, 8, 16, 32, 64, 128],\n",
        "    'batch_size': [1, 2, 4, 8, 16, 32],\n",
        "    'epochs': [20, 50, 100],\n",
        "    'optimizer': ['adam', 'rmsprop', 'sgd'],\n",
        "    'look_back': [1, 3, 5],\n",
        "    'learning_rate': [1e-4, 3e-4, 1e-3, 3e-3]\n",
        "}\n",
        "\n",
        "n_iter = 10\n",
        "results = []\n",
        "\n",
        "for i in range(n_iter):\n",
        "    params = {key: random.choice(values) for key, values in param_grid.items()}\n",
        "    rmse = evaluate_model(**params)\n",
        "    results.append((params, rmse))\n",
        "    print(f\"Trial {i+1}: Params={params}, RMSE={rmse:.2f}\")"
      ],
      "metadata": {
        "colab": {
          "base_uri": "https://localhost:8080/"
        },
        "id": "Z1IZzeqz0b1s",
        "outputId": "02ae69b4-7e14-4a99-f33c-f572d9885c0c"
      },
      "execution_count": 27,
      "outputs": [
        {
          "output_type": "stream",
          "name": "stderr",
          "text": [
            "/usr/local/lib/python3.12/dist-packages/keras/src/layers/rnn/rnn.py:199: UserWarning: Do not pass an `input_shape`/`input_dim` argument to a layer. When using Sequential models, prefer using an `Input(shape)` object as the first layer in the model instead.\n",
            "  super().__init__(**kwargs)\n"
          ]
        },
        {
          "output_type": "stream",
          "name": "stdout",
          "text": [
            "Trial 1: Params={'units': 8, 'batch_size': 16, 'epochs': 50, 'optimizer': 'adam', 'look_back': 1, 'learning_rate': 0.003}, RMSE=50.28\n"
          ]
        },
        {
          "output_type": "stream",
          "name": "stderr",
          "text": [
            "/usr/local/lib/python3.12/dist-packages/keras/src/layers/rnn/rnn.py:199: UserWarning: Do not pass an `input_shape`/`input_dim` argument to a layer. When using Sequential models, prefer using an `Input(shape)` object as the first layer in the model instead.\n",
            "  super().__init__(**kwargs)\n"
          ]
        },
        {
          "output_type": "stream",
          "name": "stdout",
          "text": [
            "Trial 2: Params={'units': 64, 'batch_size': 4, 'epochs': 100, 'optimizer': 'rmsprop', 'look_back': 3, 'learning_rate': 0.0001}, RMSE=70.27\n"
          ]
        },
        {
          "output_type": "stream",
          "name": "stderr",
          "text": [
            "/usr/local/lib/python3.12/dist-packages/keras/src/layers/rnn/rnn.py:199: UserWarning: Do not pass an `input_shape`/`input_dim` argument to a layer. When using Sequential models, prefer using an `Input(shape)` object as the first layer in the model instead.\n",
            "  super().__init__(**kwargs)\n",
            "WARNING:tensorflow:5 out of the last 5 calls to <function TensorFlowTrainer.make_predict_function.<locals>.one_step_on_data_distributed at 0x79f72d6e7a60> triggered tf.function retracing. Tracing is expensive and the excessive number of tracings could be due to (1) creating @tf.function repeatedly in a loop, (2) passing tensors with different shapes, (3) passing Python objects instead of tensors. For (1), please define your @tf.function outside of the loop. For (2), @tf.function has reduce_retracing=True option that can avoid unnecessary retracing. For (3), please refer to https://www.tensorflow.org/guide/function#controlling_retracing and https://www.tensorflow.org/api_docs/python/tf/function for  more details.\n",
            "WARNING:tensorflow:6 out of the last 6 calls to <function TensorFlowTrainer.make_predict_function.<locals>.one_step_on_data_distributed at 0x79f72d6e7a60> triggered tf.function retracing. Tracing is expensive and the excessive number of tracings could be due to (1) creating @tf.function repeatedly in a loop, (2) passing tensors with different shapes, (3) passing Python objects instead of tensors. For (1), please define your @tf.function outside of the loop. For (2), @tf.function has reduce_retracing=True option that can avoid unnecessary retracing. For (3), please refer to https://www.tensorflow.org/guide/function#controlling_retracing and https://www.tensorflow.org/api_docs/python/tf/function for  more details.\n",
            "/usr/local/lib/python3.12/dist-packages/keras/src/layers/rnn/rnn.py:199: UserWarning: Do not pass an `input_shape`/`input_dim` argument to a layer. When using Sequential models, prefer using an `Input(shape)` object as the first layer in the model instead.\n",
            "  super().__init__(**kwargs)\n"
          ]
        },
        {
          "output_type": "stream",
          "name": "stdout",
          "text": [
            "Trial 3: Params={'units': 32, 'batch_size': 1, 'epochs': 50, 'optimizer': 'rmsprop', 'look_back': 5, 'learning_rate': 0.0003}, RMSE=58.06\n",
            "Trial 4: Params={'units': 32, 'batch_size': 4, 'epochs': 20, 'optimizer': 'rmsprop', 'look_back': 5, 'learning_rate': 0.001}, RMSE=71.62\n"
          ]
        },
        {
          "output_type": "stream",
          "name": "stderr",
          "text": [
            "/usr/local/lib/python3.12/dist-packages/keras/src/layers/rnn/rnn.py:199: UserWarning: Do not pass an `input_shape`/`input_dim` argument to a layer. When using Sequential models, prefer using an `Input(shape)` object as the first layer in the model instead.\n",
            "  super().__init__(**kwargs)\n"
          ]
        },
        {
          "output_type": "stream",
          "name": "stdout",
          "text": [
            "Trial 5: Params={'units': 64, 'batch_size': 1, 'epochs': 50, 'optimizer': 'adam', 'look_back': 1, 'learning_rate': 0.001}, RMSE=51.66\n"
          ]
        },
        {
          "output_type": "stream",
          "name": "stderr",
          "text": [
            "/usr/local/lib/python3.12/dist-packages/keras/src/layers/rnn/rnn.py:199: UserWarning: Do not pass an `input_shape`/`input_dim` argument to a layer. When using Sequential models, prefer using an `Input(shape)` object as the first layer in the model instead.\n",
            "  super().__init__(**kwargs)\n"
          ]
        },
        {
          "output_type": "stream",
          "name": "stdout",
          "text": [
            "Trial 6: Params={'units': 16, 'batch_size': 4, 'epochs': 100, 'optimizer': 'adam', 'look_back': 3, 'learning_rate': 0.003}, RMSE=50.60\n"
          ]
        },
        {
          "output_type": "stream",
          "name": "stderr",
          "text": [
            "/usr/local/lib/python3.12/dist-packages/keras/src/layers/rnn/rnn.py:199: UserWarning: Do not pass an `input_shape`/`input_dim` argument to a layer. When using Sequential models, prefer using an `Input(shape)` object as the first layer in the model instead.\n",
            "  super().__init__(**kwargs)\n"
          ]
        },
        {
          "output_type": "stream",
          "name": "stdout",
          "text": [
            "Trial 7: Params={'units': 32, 'batch_size': 32, 'epochs': 20, 'optimizer': 'adam', 'look_back': 1, 'learning_rate': 0.0003}, RMSE=271.54\n"
          ]
        },
        {
          "output_type": "stream",
          "name": "stderr",
          "text": [
            "/usr/local/lib/python3.12/dist-packages/keras/src/layers/rnn/rnn.py:199: UserWarning: Do not pass an `input_shape`/`input_dim` argument to a layer. When using Sequential models, prefer using an `Input(shape)` object as the first layer in the model instead.\n",
            "  super().__init__(**kwargs)\n"
          ]
        },
        {
          "output_type": "stream",
          "name": "stdout",
          "text": [
            "Trial 8: Params={'units': 32, 'batch_size': 1, 'epochs': 100, 'optimizer': 'adam', 'look_back': 5, 'learning_rate': 0.0001}, RMSE=63.70\n"
          ]
        },
        {
          "output_type": "stream",
          "name": "stderr",
          "text": [
            "/usr/local/lib/python3.12/dist-packages/keras/src/layers/rnn/rnn.py:199: UserWarning: Do not pass an `input_shape`/`input_dim` argument to a layer. When using Sequential models, prefer using an `Input(shape)` object as the first layer in the model instead.\n",
            "  super().__init__(**kwargs)\n"
          ]
        },
        {
          "output_type": "stream",
          "name": "stdout",
          "text": [
            "Trial 9: Params={'units': 8, 'batch_size': 1, 'epochs': 50, 'optimizer': 'sgd', 'look_back': 5, 'learning_rate': 0.003}, RMSE=222.04\n"
          ]
        },
        {
          "output_type": "stream",
          "name": "stderr",
          "text": [
            "/usr/local/lib/python3.12/dist-packages/keras/src/layers/rnn/rnn.py:199: UserWarning: Do not pass an `input_shape`/`input_dim` argument to a layer. When using Sequential models, prefer using an `Input(shape)` object as the first layer in the model instead.\n",
            "  super().__init__(**kwargs)\n"
          ]
        },
        {
          "output_type": "stream",
          "name": "stdout",
          "text": [
            "Trial 10: Params={'units': 32, 'batch_size': 16, 'epochs': 100, 'optimizer': 'adam', 'look_back': 1, 'learning_rate': 0.003}, RMSE=51.43\n"
          ]
        }
      ]
    },
    {
      "cell_type": "markdown",
      "source": [
        "Saving Random Search results in a csv file"
      ],
      "metadata": {
        "id": "YfYUXE9R7U09"
      }
    },
    {
      "cell_type": "code",
      "source": [
        "with open('random_search_results.csv', 'w', newline='') as f:\n",
        "    writer = csv.writer(f)\n",
        "    writer.writerow(['units','batch_size','epochs','optimizer','look_back','learning_rate','rmse'])\n",
        "    for params, rmse in results:\n",
        "        writer.writerow([params['units'], params['batch_size'], params['epochs'], params['optimizer'], params['look_back'], params['learning_rate'], rmse])"
      ],
      "metadata": {
        "id": "dLZluwy608XB"
      },
      "execution_count": 31,
      "outputs": []
    },
    {
      "cell_type": "markdown",
      "source": [
        "Selecting Best Model with least RMSE value"
      ],
      "metadata": {
        "id": "ZfPWN-cf7jQ1"
      }
    },
    {
      "cell_type": "code",
      "source": [
        "best_params, best_rmse = min(results, key=lambda x: x[1])\n",
        "print(\"Best Parameters:\", best_params)\n",
        "print(\"Best RMSE:\", best_rmse)"
      ],
      "metadata": {
        "colab": {
          "base_uri": "https://localhost:8080/"
        },
        "id": "rSTwUoY72A2u",
        "outputId": "9b07033d-8cad-43c8-8467-81d6afba6368"
      },
      "execution_count": 32,
      "outputs": [
        {
          "output_type": "stream",
          "name": "stdout",
          "text": [
            "Best Parameters: {'units': 8, 'batch_size': 16, 'epochs': 50, 'optimizer': 'adam', 'look_back': 1, 'learning_rate': 0.003}\n",
            "Best RMSE: 50.28441923316719\n"
          ]
        }
      ]
    },
    {
      "cell_type": "markdown",
      "source": [
        "Building the LSTM model with selected hyperparameters"
      ],
      "metadata": {
        "id": "KEQGpKuR7wP9"
      }
    },
    {
      "cell_type": "code",
      "source": [
        "best_look_back = best_params['look_back']\n",
        "best_model = build_lstm_model(units=best_params['units'],\n",
        "                              look_back=best_look_back,\n",
        "                              optimizer=best_params['optimizer'],\n",
        "                              learning_rate=best_params['learning_rate'],\n",
        "                              loss='mse')"
      ],
      "metadata": {
        "colab": {
          "base_uri": "https://localhost:8080/"
        },
        "id": "HbBfJaTp2R2m",
        "outputId": "83540f49-dcc8-4b07-d5c6-29f30da11591"
      },
      "execution_count": 34,
      "outputs": [
        {
          "output_type": "stream",
          "name": "stderr",
          "text": [
            "/usr/local/lib/python3.12/dist-packages/keras/src/layers/rnn/rnn.py:199: UserWarning: Do not pass an `input_shape`/`input_dim` argument to a layer. When using Sequential models, prefer using an `Input(shape)` object as the first layer in the model instead.\n",
            "  super().__init__(**kwargs)\n"
          ]
        }
      ]
    },
    {
      "cell_type": "markdown",
      "source": [
        "Training the LSTM model"
      ],
      "metadata": {
        "id": "41OZdmaU73A1"
      }
    },
    {
      "cell_type": "code",
      "source": [
        "trainX, trainY = create_dataset(train, best_look_back)\n",
        "testX, testY   = create_dataset(test, best_look_back)\n",
        "\n",
        "trainX = np.reshape(trainX, (trainX.shape[0], 1, trainX.shape[1]))\n",
        "testX  = np.reshape(testX,  (testX.shape[0], 1, testX.shape[1]))\n",
        "\n",
        "\n",
        "early_stop = EarlyStopping(monitor='val_loss', patience=5)\n",
        "best_model.fit(trainX, trainY,\n",
        "               epochs=best_params['epochs'],\n",
        "               batch_size=best_params['batch_size'],\n",
        "               validation_data=(testX, testY),\n",
        "               verbose=2,\n",
        "               callbacks=[early_stop])"
      ],
      "metadata": {
        "colab": {
          "base_uri": "https://localhost:8080/"
        },
        "id": "zaNFy7fG3Hku",
        "outputId": "ed89eab4-219c-4b31-ef5b-51e79c7a1500"
      },
      "execution_count": 36,
      "outputs": [
        {
          "output_type": "stream",
          "name": "stdout",
          "text": [
            "Epoch 1/50\n",
            "6/6 - 0s - 44ms/step - loss: 0.0020 - val_loss: 0.0089\n",
            "Epoch 2/50\n",
            "6/6 - 0s - 46ms/step - loss: 0.0020 - val_loss: 0.0089\n",
            "Epoch 3/50\n",
            "6/6 - 0s - 69ms/step - loss: 0.0020 - val_loss: 0.0089\n",
            "Epoch 4/50\n",
            "6/6 - 0s - 40ms/step - loss: 0.0020 - val_loss: 0.0089\n",
            "Epoch 5/50\n",
            "6/6 - 0s - 36ms/step - loss: 0.0020 - val_loss: 0.0089\n",
            "Epoch 6/50\n",
            "6/6 - 0s - 20ms/step - loss: 0.0020 - val_loss: 0.0089\n",
            "Epoch 7/50\n",
            "6/6 - 0s - 20ms/step - loss: 0.0020 - val_loss: 0.0089\n",
            "Epoch 8/50\n",
            "6/6 - 0s - 20ms/step - loss: 0.0020 - val_loss: 0.0089\n",
            "Epoch 9/50\n",
            "6/6 - 0s - 20ms/step - loss: 0.0020 - val_loss: 0.0088\n",
            "Epoch 10/50\n",
            "6/6 - 0s - 24ms/step - loss: 0.0020 - val_loss: 0.0088\n",
            "Epoch 11/50\n",
            "6/6 - 0s - 20ms/step - loss: 0.0020 - val_loss: 0.0088\n",
            "Epoch 12/50\n",
            "6/6 - 0s - 20ms/step - loss: 0.0020 - val_loss: 0.0088\n",
            "Epoch 13/50\n",
            "6/6 - 0s - 21ms/step - loss: 0.0020 - val_loss: 0.0088\n",
            "Epoch 14/50\n",
            "6/6 - 0s - 19ms/step - loss: 0.0020 - val_loss: 0.0088\n",
            "Epoch 15/50\n",
            "6/6 - 0s - 18ms/step - loss: 0.0020 - val_loss: 0.0088\n",
            "Epoch 16/50\n",
            "6/6 - 0s - 23ms/step - loss: 0.0020 - val_loss: 0.0088\n",
            "Epoch 17/50\n",
            "6/6 - 0s - 23ms/step - loss: 0.0020 - val_loss: 0.0088\n",
            "Epoch 18/50\n",
            "6/6 - 0s - 25ms/step - loss: 0.0020 - val_loss: 0.0088\n",
            "Epoch 19/50\n",
            "6/6 - 0s - 20ms/step - loss: 0.0020 - val_loss: 0.0088\n",
            "Epoch 20/50\n",
            "6/6 - 0s - 22ms/step - loss: 0.0020 - val_loss: 0.0088\n",
            "Epoch 21/50\n",
            "6/6 - 0s - 23ms/step - loss: 0.0020 - val_loss: 0.0088\n",
            "Epoch 22/50\n",
            "6/6 - 0s - 19ms/step - loss: 0.0020 - val_loss: 0.0088\n",
            "Epoch 23/50\n",
            "6/6 - 0s - 20ms/step - loss: 0.0020 - val_loss: 0.0088\n",
            "Epoch 24/50\n",
            "6/6 - 0s - 19ms/step - loss: 0.0020 - val_loss: 0.0088\n",
            "Epoch 25/50\n",
            "6/6 - 0s - 24ms/step - loss: 0.0020 - val_loss: 0.0088\n",
            "Epoch 26/50\n",
            "6/6 - 0s - 25ms/step - loss: 0.0020 - val_loss: 0.0088\n",
            "Epoch 27/50\n",
            "6/6 - 0s - 22ms/step - loss: 0.0020 - val_loss: 0.0088\n",
            "Epoch 28/50\n",
            "6/6 - 0s - 19ms/step - loss: 0.0020 - val_loss: 0.0088\n",
            "Epoch 29/50\n",
            "6/6 - 0s - 19ms/step - loss: 0.0020 - val_loss: 0.0088\n",
            "Epoch 30/50\n",
            "6/6 - 0s - 25ms/step - loss: 0.0020 - val_loss: 0.0087\n",
            "Epoch 31/50\n",
            "6/6 - 0s - 24ms/step - loss: 0.0020 - val_loss: 0.0087\n",
            "Epoch 32/50\n",
            "6/6 - 0s - 25ms/step - loss: 0.0020 - val_loss: 0.0087\n",
            "Epoch 33/50\n",
            "6/6 - 0s - 27ms/step - loss: 0.0020 - val_loss: 0.0087\n",
            "Epoch 34/50\n",
            "6/6 - 0s - 45ms/step - loss: 0.0020 - val_loss: 0.0087\n",
            "Epoch 35/50\n",
            "6/6 - 0s - 22ms/step - loss: 0.0020 - val_loss: 0.0087\n",
            "Epoch 36/50\n",
            "6/6 - 0s - 24ms/step - loss: 0.0020 - val_loss: 0.0087\n",
            "Epoch 37/50\n",
            "6/6 - 0s - 24ms/step - loss: 0.0020 - val_loss: 0.0087\n",
            "Epoch 38/50\n",
            "6/6 - 0s - 20ms/step - loss: 0.0020 - val_loss: 0.0087\n",
            "Epoch 39/50\n",
            "6/6 - 0s - 20ms/step - loss: 0.0020 - val_loss: 0.0087\n",
            "Epoch 40/50\n",
            "6/6 - 0s - 26ms/step - loss: 0.0020 - val_loss: 0.0087\n",
            "Epoch 41/50\n",
            "6/6 - 0s - 25ms/step - loss: 0.0020 - val_loss: 0.0087\n",
            "Epoch 42/50\n",
            "6/6 - 0s - 23ms/step - loss: 0.0020 - val_loss: 0.0087\n",
            "Epoch 43/50\n",
            "6/6 - 0s - 22ms/step - loss: 0.0020 - val_loss: 0.0087\n",
            "Epoch 44/50\n",
            "6/6 - 0s - 24ms/step - loss: 0.0020 - val_loss: 0.0087\n",
            "Epoch 45/50\n",
            "6/6 - 0s - 19ms/step - loss: 0.0020 - val_loss: 0.0087\n",
            "Epoch 46/50\n",
            "6/6 - 0s - 20ms/step - loss: 0.0020 - val_loss: 0.0087\n",
            "Epoch 47/50\n",
            "6/6 - 0s - 27ms/step - loss: 0.0020 - val_loss: 0.0087\n",
            "Epoch 48/50\n",
            "6/6 - 0s - 23ms/step - loss: 0.0020 - val_loss: 0.0087\n",
            "Epoch 49/50\n",
            "6/6 - 0s - 21ms/step - loss: 0.0020 - val_loss: 0.0087\n",
            "Epoch 50/50\n",
            "6/6 - 0s - 23ms/step - loss: 0.0020 - val_loss: 0.0087\n"
          ]
        },
        {
          "output_type": "execute_result",
          "data": {
            "text/plain": [
              "<keras.src.callbacks.history.History at 0x79f713c731a0>"
            ]
          },
          "metadata": {},
          "execution_count": 36
        }
      ]
    },
    {
      "cell_type": "markdown",
      "source": [
        "Evaluation and Visualization"
      ],
      "metadata": {
        "id": "hEH1VmQJ8AXE"
      }
    },
    {
      "cell_type": "code",
      "source": [
        "trainPredict = best_model.predict(trainX)\n",
        "testPredict  = best_model.predict(testX)\n",
        "\n",
        "trainPredict = scaler.inverse_transform(trainPredict)\n",
        "trainY_rescaled = scaler.inverse_transform([trainY])\n",
        "testPredict = scaler.inverse_transform(testPredict)\n",
        "testY_rescaled = scaler.inverse_transform([testY])\n",
        "\n",
        "trainPredictPlot = np.empty_like(dataset)\n",
        "trainPredictPlot[:, :] = np.nan\n",
        "trainPredictPlot[best_look_back:len(trainPredict)+best_look_back, :] = trainPredict\n",
        "\n",
        "testPredictPlot = np.empty_like(dataset)\n",
        "testPredictPlot[:, :] = np.nan\n",
        "testPredictPlot[len(trainPredict)+(best_look_back*2):len(trainPredict)+(best_look_back*2)+len(testPredict), :] = testPredict\n",
        "\n",
        "plt.figure(figsize=(10,6))\n",
        "plt.plot(scaler.inverse_transform(dataset), label=\"Original (blue)\")\n",
        "plt.plot(trainPredictPlot, label=\"Train Predict (orange)\")\n",
        "plt.plot(testPredictPlot, label=\"Test Predict (green)\")\n",
        "plt.legend()\n",
        "plt.show()"
      ],
      "metadata": {
        "colab": {
          "base_uri": "https://localhost:8080/",
          "height": 558
        },
        "id": "tvTlu7wS3Nv8",
        "outputId": "ce342b13-e104-4b21-c558-ea6319dc20cb"
      },
      "execution_count": 37,
      "outputs": [
        {
          "output_type": "stream",
          "name": "stdout",
          "text": [
            "\u001b[1m3/3\u001b[0m \u001b[32m━━━━━━━━━━━━━━━━━━━━\u001b[0m\u001b[37m\u001b[0m \u001b[1m1s\u001b[0m 284ms/step\n",
            "\u001b[1m2/2\u001b[0m \u001b[32m━━━━━━━━━━━━━━━━━━━━\u001b[0m\u001b[37m\u001b[0m \u001b[1m0s\u001b[0m 41ms/step\n"
          ]
        },
        {
          "output_type": "display_data",
          "data": {
            "text/plain": [
              "<Figure size 1000x600 with 1 Axes>"
            ],
            "image/png": "[encoded data removed]"
          },
          "metadata": {}
        }
      ]
    },
    {
      "cell_type": "code",
      "source": [],
      "metadata": {
        "id": "RPkaOxSc3-Or"
      },
      "execution_count": null,
      "outputs": []
    }
  ]
}